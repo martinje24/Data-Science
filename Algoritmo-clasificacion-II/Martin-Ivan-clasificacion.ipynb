{
 "cells": [
  {
   "cell_type": "markdown",
   "metadata": {},
   "source": [
    "# Clasificación I"
   ]
  },
  {
   "cell_type": "code",
   "execution_count": 80,
   "metadata": {},
   "outputs": [
    {
     "data": {
      "text/html": [
       "<div>\n",
       "<style scoped>\n",
       "    .dataframe tbody tr th:only-of-type {\n",
       "        vertical-align: middle;\n",
       "    }\n",
       "\n",
       "    .dataframe tbody tr th {\n",
       "        vertical-align: top;\n",
       "    }\n",
       "\n",
       "    .dataframe thead th {\n",
       "        text-align: right;\n",
       "    }\n",
       "</style>\n",
       "<table border=\"1\" class=\"dataframe\">\n",
       "  <thead>\n",
       "    <tr style=\"text-align: right;\">\n",
       "      <th></th>\n",
       "      <th>Entity</th>\n",
       "      <th>Code</th>\n",
       "      <th>Year</th>\n",
       "      <th>Armed forces personnel, total</th>\n",
       "      <th>military_expenditure</th>\n",
       "      <th>military_expenditure_per_capita</th>\n",
       "      <th>Gas - Proved reserves</th>\n",
       "      <th>Oil - Proved reserves</th>\n",
       "    </tr>\n",
       "  </thead>\n",
       "  <tbody>\n",
       "    <tr>\n",
       "      <th>0</th>\n",
       "      <td>Afghanistan</td>\n",
       "      <td>AFG</td>\n",
       "      <td>1985</td>\n",
       "      <td>47000</td>\n",
       "      <td>NaN</td>\n",
       "      <td>NaN</td>\n",
       "      <td>NaN</td>\n",
       "      <td>NaN</td>\n",
       "    </tr>\n",
       "    <tr>\n",
       "      <th>1</th>\n",
       "      <td>Afghanistan</td>\n",
       "      <td>AFG</td>\n",
       "      <td>1989</td>\n",
       "      <td>55000</td>\n",
       "      <td>NaN</td>\n",
       "      <td>NaN</td>\n",
       "      <td>NaN</td>\n",
       "      <td>NaN</td>\n",
       "    </tr>\n",
       "    <tr>\n",
       "      <th>2</th>\n",
       "      <td>Afghanistan</td>\n",
       "      <td>AFG</td>\n",
       "      <td>1990</td>\n",
       "      <td>58000</td>\n",
       "      <td>NaN</td>\n",
       "      <td>NaN</td>\n",
       "      <td>NaN</td>\n",
       "      <td>NaN</td>\n",
       "    </tr>\n",
       "    <tr>\n",
       "      <th>3</th>\n",
       "      <td>Afghanistan</td>\n",
       "      <td>AFG</td>\n",
       "      <td>1991</td>\n",
       "      <td>45000</td>\n",
       "      <td>NaN</td>\n",
       "      <td>NaN</td>\n",
       "      <td>NaN</td>\n",
       "      <td>NaN</td>\n",
       "    </tr>\n",
       "    <tr>\n",
       "      <th>4</th>\n",
       "      <td>Afghanistan</td>\n",
       "      <td>AFG</td>\n",
       "      <td>1992</td>\n",
       "      <td>45000</td>\n",
       "      <td>NaN</td>\n",
       "      <td>NaN</td>\n",
       "      <td>NaN</td>\n",
       "      <td>NaN</td>\n",
       "    </tr>\n",
       "  </tbody>\n",
       "</table>\n",
       "</div>"
      ],
      "text/plain": [
       "        Entity Code  Year  Armed forces personnel, total  \\\n",
       "0  Afghanistan  AFG  1985                          47000   \n",
       "1  Afghanistan  AFG  1989                          55000   \n",
       "2  Afghanistan  AFG  1990                          58000   \n",
       "3  Afghanistan  AFG  1991                          45000   \n",
       "4  Afghanistan  AFG  1992                          45000   \n",
       "\n",
       "   military_expenditure  military_expenditure_per_capita  \\\n",
       "0                   NaN                              NaN   \n",
       "1                   NaN                              NaN   \n",
       "2                   NaN                              NaN   \n",
       "3                   NaN                              NaN   \n",
       "4                   NaN                              NaN   \n",
       "\n",
       "   Gas - Proved reserves  Oil - Proved reserves  \n",
       "0                    NaN                    NaN  \n",
       "1                    NaN                    NaN  \n",
       "2                    NaN                    NaN  \n",
       "3                    NaN                    NaN  \n",
       "4                    NaN                    NaN  "
      ]
     },
     "execution_count": 80,
     "metadata": {},
     "output_type": "execute_result"
    }
   ],
   "source": [
    "import pandas as pd\n",
    "import numpy as np\n",
    "import plotly.express as px\n",
    "\n",
    "#Importando todos los datos\n",
    "df_afp=pd.read_csv(\"../Analisis-univariado/data/armed-forces-personnel.csv\")\n",
    "df_met=pd.read_csv(\"../Analisis-univariado/data/military-expenditure-total.csv\")\n",
    "df_mepc=pd.read_csv(\"../Analisis-univariado/data/military-spending-per-capita.csv\")\n",
    "df_ngpr=pd.read_csv(\"../Analisis-univariado/data/natural-gas-proved-reserves.csv\")\n",
    "df_opr=pd.read_csv(\"../Analisis-univariado/data/oil-proved-reserves.csv\")\n",
    "\n",
    "#Haciendo merge de todos los datos para no perder ni un solo dato de todas los datasets\n",
    "df_all=pd.merge(df_afp,df_met,on=[\"Entity\",\"Year\",\"Code\"],how=\"left\")\n",
    "df_all=pd.merge(df_all,df_mepc,on=[\"Entity\",\"Year\",\"Code\"],how=\"left\")\n",
    "df_all=pd.merge(df_all,df_ngpr,on=[\"Entity\",\"Year\",\"Code\"],how=\"left\")\n",
    "df_all=pd.merge(df_all,df_opr,on=[\"Entity\",\"Year\",\"Code\"],how=\"left\")\n",
    "df_all.head(5)"
   ]
  },
  {
   "cell_type": "code",
   "execution_count": 83,
   "metadata": {},
   "outputs": [
    {
     "data": {
      "text/html": [
       "<div>\n",
       "<style scoped>\n",
       "    .dataframe tbody tr th:only-of-type {\n",
       "        vertical-align: middle;\n",
       "    }\n",
       "\n",
       "    .dataframe tbody tr th {\n",
       "        vertical-align: top;\n",
       "    }\n",
       "\n",
       "    .dataframe thead th {\n",
       "        text-align: right;\n",
       "    }\n",
       "</style>\n",
       "<table border=\"1\" class=\"dataframe\">\n",
       "  <thead>\n",
       "    <tr style=\"text-align: right;\">\n",
       "      <th></th>\n",
       "      <th>Entity</th>\n",
       "      <th>Code</th>\n",
       "      <th>Year</th>\n",
       "      <th>Armed forces personnel, total</th>\n",
       "      <th>military_expenditure</th>\n",
       "      <th>military_expenditure_per_capita</th>\n",
       "      <th>Gas - Proved reserves</th>\n",
       "      <th>Oil - Proved reserves</th>\n",
       "    </tr>\n",
       "  </thead>\n",
       "  <tbody>\n",
       "    <tr>\n",
       "      <th>0</th>\n",
       "      <td>China</td>\n",
       "      <td>CHN</td>\n",
       "      <td>1989.0</td>\n",
       "      <td>3900000.0</td>\n",
       "      <td>19576596590.0</td>\n",
       "      <td>9.71</td>\n",
       "      <td>1030845642089.84375</td>\n",
       "      <td>16058490753.173828</td>\n",
       "    </tr>\n",
       "    <tr>\n",
       "      <th>1</th>\n",
       "      <td>United States</td>\n",
       "      <td>USA</td>\n",
       "      <td>1989.0</td>\n",
       "      <td>2240000.0</td>\n",
       "      <td>663787520434.0</td>\n",
       "      <td>1288.88</td>\n",
       "      <td>4531080245971.679688</td>\n",
       "      <td>34270000457.763672</td>\n",
       "    </tr>\n",
       "    <tr>\n",
       "      <th>2</th>\n",
       "      <td>India</td>\n",
       "      <td>IND</td>\n",
       "      <td>1989.0</td>\n",
       "      <td>1260000.0</td>\n",
       "      <td>20917686140.0</td>\n",
       "      <td>12.38</td>\n",
       "      <td>668850004673.00415</td>\n",
       "      <td>4345399856.567383</td>\n",
       "    </tr>\n",
       "    <tr>\n",
       "      <th>3</th>\n",
       "      <td>Vietnam</td>\n",
       "      <td>VNM</td>\n",
       "      <td>1989.0</td>\n",
       "      <td>1250000.0</td>\n",
       "      <td>1695261693.0</td>\n",
       "      <td>6.89</td>\n",
       "      <td>0.0</td>\n",
       "      <td>109499998.390675</td>\n",
       "    </tr>\n",
       "    <tr>\n",
       "      <th>4</th>\n",
       "      <td>China</td>\n",
       "      <td>CHN</td>\n",
       "      <td>1990.0</td>\n",
       "      <td>3500000.0</td>\n",
       "      <td>21281576429.0</td>\n",
       "      <td>8.43</td>\n",
       "      <td>1006858348846.435547</td>\n",
       "      <td>16019714355.46875</td>\n",
       "    </tr>\n",
       "    <tr>\n",
       "      <th>5</th>\n",
       "      <td>United States</td>\n",
       "      <td>USA</td>\n",
       "      <td>1990.0</td>\n",
       "      <td>2180000.0</td>\n",
       "      <td>636176125531.0</td>\n",
       "      <td>1289.58</td>\n",
       "      <td>4591543197631.835938</td>\n",
       "      <td>33840000152.587891</td>\n",
       "    </tr>\n",
       "    <tr>\n",
       "      <th>6</th>\n",
       "      <td>India</td>\n",
       "      <td>IND</td>\n",
       "      <td>1990.0</td>\n",
       "      <td>1260000.0</td>\n",
       "      <td>20604351223.0</td>\n",
       "      <td>12.07</td>\n",
       "      <td>682500004768.371582</td>\n",
       "      <td>5563164234.161377</td>\n",
       "    </tr>\n",
       "    <tr>\n",
       "      <th>7</th>\n",
       "      <td>Vietnam</td>\n",
       "      <td>VNM</td>\n",
       "      <td>1990.0</td>\n",
       "      <td>1050000.0</td>\n",
       "      <td>2020644179.0</td>\n",
       "      <td>7.53</td>\n",
       "      <td>14624999836.087229</td>\n",
       "      <td>200749993.32428</td>\n",
       "    </tr>\n",
       "    <tr>\n",
       "      <th>8</th>\n",
       "      <td>China</td>\n",
       "      <td>CHN</td>\n",
       "      <td>1991.0</td>\n",
       "      <td>3200000.0</td>\n",
       "      <td>22620362006.0</td>\n",
       "      <td>8.22</td>\n",
       "      <td>1009680390357.971191</td>\n",
       "      <td>15513212203.979492</td>\n",
       "    </tr>\n",
       "    <tr>\n",
       "      <th>9</th>\n",
       "      <td>United States</td>\n",
       "      <td>USA</td>\n",
       "      <td>1991.0</td>\n",
       "      <td>2120000.0</td>\n",
       "      <td>561979012109.0</td>\n",
       "      <td>1176.14</td>\n",
       "      <td>4529616355895.996094</td>\n",
       "      <td>32145999908.447266</td>\n",
       "    </tr>\n",
       "    <tr>\n",
       "      <th>10</th>\n",
       "      <td>India</td>\n",
       "      <td>IND</td>\n",
       "      <td>1991.0</td>\n",
       "      <td>1270000.0</td>\n",
       "      <td>19238597675.0</td>\n",
       "      <td>9.67</td>\n",
       "      <td>711749970912.93335</td>\n",
       "      <td>6125599861.14502</td>\n",
       "    </tr>\n",
       "  </tbody>\n",
       "</table>\n",
       "</div>"
      ],
      "text/plain": [
       "           Entity Code    Year Armed forces personnel, total  \\\n",
       "0           China  CHN  1989.0                     3900000.0   \n",
       "1   United States  USA  1989.0                     2240000.0   \n",
       "2           India  IND  1989.0                     1260000.0   \n",
       "3         Vietnam  VNM  1989.0                     1250000.0   \n",
       "4           China  CHN  1990.0                     3500000.0   \n",
       "5   United States  USA  1990.0                     2180000.0   \n",
       "6           India  IND  1990.0                     1260000.0   \n",
       "7         Vietnam  VNM  1990.0                     1050000.0   \n",
       "8           China  CHN  1991.0                     3200000.0   \n",
       "9   United States  USA  1991.0                     2120000.0   \n",
       "10          India  IND  1991.0                     1270000.0   \n",
       "\n",
       "   military_expenditure military_expenditure_per_capita Gas - Proved reserves  \\\n",
       "0         19576596590.0                            9.71   1030845642089.84375   \n",
       "1        663787520434.0                         1288.88  4531080245971.679688   \n",
       "2         20917686140.0                           12.38    668850004673.00415   \n",
       "3          1695261693.0                            6.89                   0.0   \n",
       "4         21281576429.0                            8.43  1006858348846.435547   \n",
       "5        636176125531.0                         1289.58  4591543197631.835938   \n",
       "6         20604351223.0                           12.07   682500004768.371582   \n",
       "7          2020644179.0                            7.53    14624999836.087229   \n",
       "8         22620362006.0                            8.22  1009680390357.971191   \n",
       "9        561979012109.0                         1176.14  4529616355895.996094   \n",
       "10        19238597675.0                            9.67    711749970912.93335   \n",
       "\n",
       "   Oil - Proved reserves  \n",
       "0     16058490753.173828  \n",
       "1     34270000457.763672  \n",
       "2      4345399856.567383  \n",
       "3       109499998.390675  \n",
       "4      16019714355.46875  \n",
       "5     33840000152.587891  \n",
       "6      5563164234.161377  \n",
       "7        200749993.32428  \n",
       "8     15513212203.979492  \n",
       "9     32145999908.447266  \n",
       "10      6125599861.14502  "
      ]
     },
     "execution_count": 83,
     "metadata": {},
     "output_type": "execute_result"
    }
   ],
   "source": [
    "years=df_all[\"Year\"].unique()\n",
    "#Quiero filtrar esta lista de mi dataset\n",
    "list_to_avoid=[\"World\",\"Low and middle income\",\"Middle income\",\"Lower middle income\",\"Upper middle income\",\n",
    "            \"East Asia and Pacific\",\"High income\",\"Europe and Central Asia\",\"South Asia\",\"Middle East and North Africa\",\n",
    "            \"Low income\",\"Latin America and Caribbean\",\"Sub-Saharan Africa\",\"European Union\",\"North America\"]\n",
    "#En este paso lo filtramos y evitamos la lista de arriba\n",
    "df_afp_locochon=df_all[df_afp.Entity.str.contains('|'.join(list_to_avoid))==False]\n",
    "#Aquí creamos un DataFrame vacío para hacerle merge con las mismas columnas\n",
    "df_afp_topN=pd.DataFrame(columns=df_afp_locochon.columns)\n",
    "#Decidimos traer 15 países por año\n",
    "First_N_Values=4\n",
    "for year in years:\n",
    "    #Recorremos por año el dataset locochon y quitamos los NaN values, ordenamos de mayor a menor y retiramos los primers N valores\n",
    "    data_per_year=df_afp_locochon.where(df_afp_locochon[\"Year\"]==year).dropna().sort_values(by=\"Armed forces personnel, total\",ascending=False).head(First_N_Values)\n",
    "    #Procedemos a hacer el merge tipo outer para no perder ningun dato\n",
    "    df_afp_topN=pd.concat([df_afp_topN,data_per_year])\n",
    "\n",
    "#Comprobamos\n",
    "df_afp_topN=df_afp_topN.reset_index(drop=True)\n",
    "# df_afp_topN.iloc[0:30]\n",
    "df_afp_topN.head(11)"
   ]
  },
  {
   "cell_type": "code",
   "execution_count": 84,
   "metadata": {},
   "outputs": [
    {
     "data": {
      "application/vnd.plotly.v1+json": {
       "config": {
        "plotlyServerURL": "https://plot.ly"
       },
       "data": [
        {
         "hovertemplate": "<b>%{hovertext}</b><br><br>Entity=China<br>Oil - Proved reserves=%{x}<br>Gas - Proved reserves=%{y}<br>Armed forces personnel, total=%{z}<extra></extra>",
         "hovertext": [
          1989,
          1990,
          1991,
          1992,
          1993,
          1994,
          1995,
          1996,
          1997,
          1998,
          1999,
          2000,
          2002,
          2003,
          2004,
          2005,
          2006,
          2007,
          2008,
          2009,
          2010,
          2011,
          2012,
          2013,
          2014,
          2015,
          2016,
          2017,
          2018,
          2019,
          2001
         ],
         "legendgroup": "China",
         "marker": {
          "color": "#636efa",
          "opacity": 0.4,
          "symbol": "circle"
         },
         "mode": "markers",
         "name": "China",
         "scene": "scene",
         "showlegend": true,
         "type": "scatter3d",
         "x": [
          16058490753.173828,
          16019714355.46875,
          15513212203.979492,
          15193110466.003418,
          16435325622.558594,
          16257940292.358398,
          16355062484.74121,
          16444488525.390623,
          17021505355.83496,
          17422822952.270508,
          15111900329.589844,
          15190299987.792969,
          15508700370.788574,
          15475700378.417969,
          18258876800.53711,
          18249654769.89746,
          20220300674.43848,
          20762500762.939453,
          21186851501.464844,
          21617620468.13965,
          23268007278.442383,
          23746847152.70996,
          24427835464.47754,
          24682514190.67383,
          25166456222.53418,
          25626464843.75,
          25663818359.375,
          25948200225.83008,
          26190090179.44336,
          25962757110.595703,
          15411499977.111816
         ],
         "y": [
          1030845642089.8438,
          1006858348846.4355,
          1009680390357.9712,
          1409904122352.6,
          1683842182159.4238,
          1682834267616.272,
          1682834267616.272,
          1179606676101.6846,
          1169427275657.6538,
          1377652406692.505,
          1377652406692.505,
          1377652406692.505,
          1277965545654.2969,
          1346625447273.2544,
          1459548830986.023,
          1546642184257.507,
          1696748495101.9287,
          2272839307785.034,
          2710600852966.3086,
          2868211984634.3994,
          2747093677520.752,
          2928997516632.08,
          3139862298965.454,
          3374516725540.161,
          3576437950134.2773,
          4679402351379.395,
          5479311466217.041,
          6070297718048.096,
          6363927841186.523,
          8398550033569.336,
          1378458738327.0264
         ],
         "z": [
          3900000,
          3500000,
          3200000,
          3160000,
          3030000,
          2930000,
          4130000,
          4135000,
          3640000,
          3820000,
          3820000,
          3910000,
          3770000,
          3750000,
          3755000,
          3755000,
          3605000,
          2885000,
          2885000,
          2945000,
          2945000,
          2945000,
          2993000,
          2993000,
          2993000,
          2843000,
          2695000,
          2695000,
          2695000,
          2535000,
          3810000
         ]
        },
        {
         "hovertemplate": "<b>%{hovertext}</b><br><br>Entity=United States<br>Oil - Proved reserves=%{x}<br>Gas - Proved reserves=%{y}<br>Armed forces personnel, total=%{z}<extra></extra>",
         "hovertext": [
          1989,
          1990,
          1991,
          1992,
          1993,
          1994,
          1995,
          1996,
          1997,
          1998,
          1999,
          2000,
          2002,
          2003,
          2004,
          2005,
          2006,
          2007,
          2008,
          2009,
          2010,
          2011,
          2012,
          2013,
          2014,
          2015,
          2016,
          2017,
          2018,
          2019,
          2001
         ],
         "legendgroup": "United States",
         "marker": {
          "color": "#EF553B",
          "opacity": 0.4,
          "symbol": "circle"
         },
         "mode": "markers",
         "name": "United States",
         "scene": "scene",
         "showlegend": true,
         "type": "scatter3d",
         "x": [
          34270000457.76367,
          33840000152.58789,
          32145999908.447266,
          31195999145.50781,
          30179000854.492188,
          29627000808.71582,
          29750000000,
          29840000152.58789,
          30518999099.731445,
          28558000564.575195,
          29670999526.97754,
          30389999389.64844,
          30670999526.97754,
          29350000381.469727,
          29298999786.376957,
          29922000885.00977,
          29444000244.140625,
          30459999084.472656,
          28395999908.447266,
          30871999740.600582,
          34990001678.4668,
          39775001525.87891,
          44180000305.17578,
          48463001251.2207,
          54962001800.53711,
          47986999511.71875,
          49965999603.271484,
          61233001708.984375,
          68893997192.38281,
          68757003784.17969,
          30438999176.02539
         ],
         "y": [
          4531080245971.68,
          4591543197631.836,
          4529616355895.996,
          4474114894866.943,
          4403620243072.51,
          4442175388336.182,
          4477666854858.398,
          4513673305511.475,
          4533981323242.188,
          4447706699371.338,
          4538943290710.449,
          4810646533966.064,
          5068738460540.771,
          5125622749328.613,
          5219678878784.18,
          5541568756103.516,
          5723228454589.844,
          6445556163787.842,
          6633451938629.15,
          7388641357421.875,
          8259414672851.562,
          9057686805725.098,
          8351898193359.375,
          9171482086181.64,
          9996812820434.57,
          8343601226806.641,
          8736854553222.656,
          11888134002685.549,
          12874004364013.672,
          12618704795837.402,
          4974221229553.223
         ],
         "z": [
          2240000,
          2180000,
          2120000,
          1920000,
          1820000,
          1720000,
          1635600,
          1572100,
          1533300,
          1594000,
          1575000,
          1454800,
          1467000,
          1480000,
          1473000,
          1546000,
          1498000,
          1555000,
          1540000,
          1563996,
          1569417,
          1520100,
          1492200,
          1433150,
          1381250,
          1347300,
          1348400,
          1359000,
          1379800,
          1388000,
          1420700
         ]
        },
        {
         "hovertemplate": "<b>%{hovertext}</b><br><br>Entity=India<br>Oil - Proved reserves=%{x}<br>Gas - Proved reserves=%{y}<br>Armed forces personnel, total=%{z}<extra></extra>",
         "hovertext": [
          1989,
          1990,
          1991,
          1992,
          1993,
          1994,
          1995,
          1996,
          1997,
          1998,
          1999,
          2000,
          2002,
          2003,
          2004,
          2005,
          2006,
          2007,
          2008,
          2009,
          2010,
          2011,
          2012,
          2013,
          2014,
          2015,
          2016,
          2017,
          2018,
          2019,
          2001
         ],
         "legendgroup": "India",
         "marker": {
          "color": "#00cc96",
          "opacity": 0.4,
          "symbol": "circle"
         },
         "mode": "markers",
         "name": "India",
         "scene": "scene",
         "showlegend": true,
         "type": "scatter3d",
         "x": [
          4345399856.567383,
          5563164234.161377,
          6125599861.14502,
          5909999847.412109,
          5860000133.514404,
          5807300090.789795,
          5509776115.41748,
          5486960411.071777,
          5625437259.674072,
          5394266128.540039,
          4972209453.582764,
          5289900302.886963,
          5576341629.02832,
          5731158256.530762,
          5565272331.237793,
          5918881416.320801,
          5692679882.049561,
          5459249973.297119,
          5798099994.659424,
          5822873592.376709,
          5833189964.294434,
          5703523159.0271,
          5719712734.222412,
          5711030483.24585,
          5743409633.636475,
          4786067962.646484,
          4678238391.876221,
          4548865318.29834,
          4476577281.951904,
          4660614490.509033,
          5513465881.347656
         ],
         "y": [
          668850004673.0042,
          682500004768.3716,
          711749970912.9333,
          716624975204.4678,
          700049996376.0376,
          684449970722.1985,
          650755882263.1836,
          617260873317.7185,
          666300237178.8025,
          649456501007.0801,
          623661518096.9238,
          731317102909.0881,
          722558379173.2788,
          821974992752.0752,
          888387501239.7766,
          1073475003242.4928,
          1048125028610.2296,
          1015437483787.5366,
          1049124956130.9814,
          1073437690734.8632,
          1105498671531.6772,
          1230132699012.7563,
          1280356049537.6587,
          1303956508636.4746,
          1373630881309.5093,
          1204944133758.545,
          1181372523307.8003,
          1241331458091.7358,
          1289336085319.519,
          1328866124153.1372,
          734339356422.4243
         ],
         "z": [
          1260000,
          1260000,
          1270000,
          1270000,
          1270000,
          1270000,
          2149500,
          2223000,
          2233000,
          2265000,
          2263000,
          2372000,
          2387700,
          2414700,
          2617000,
          3047000,
          2589000,
          2576000,
          2582000,
          2625586,
          2625586,
          2647150,
          2728700,
          2749700,
          2749700,
          2798800,
          2981050,
          3031000,
          3026500,
          3045000,
          2352700
         ]
        },
        {
         "hovertemplate": "<b>%{hovertext}</b><br><br>Entity=Vietnam<br>Oil - Proved reserves=%{x}<br>Gas - Proved reserves=%{y}<br>Armed forces personnel, total=%{z}<extra></extra>",
         "hovertext": [
          1989,
          1990,
          1991,
          1992
         ],
         "legendgroup": "Vietnam",
         "marker": {
          "color": "#ab63fa",
          "opacity": 0.4,
          "symbol": "circle"
         },
         "mode": "markers",
         "name": "Vietnam",
         "scene": "scene",
         "showlegend": true,
         "type": "scatter3d",
         "x": [
          109499998.3906746,
          200749993.3242798,
          239999994.635582,
          349999994.0395355
         ],
         "y": [
          0,
          14624999836.087229,
          14624999836.087229,
          103349998593.33038
         ],
         "z": [
          1250000,
          1050000,
          1040000,
          857000
         ]
        },
        {
         "hovertemplate": "<b>%{hovertext}</b><br><br>Entity=Russia<br>Oil - Proved reserves=%{x}<br>Gas - Proved reserves=%{y}<br>Armed forces personnel, total=%{z}<extra></extra>",
         "hovertext": [
          1993,
          1994,
          1995,
          1996,
          1997,
          1998,
          1999,
          2000,
          2002,
          2003,
          2004,
          2005,
          2006,
          2007,
          2008,
          2009,
          2010,
          2011,
          2012,
          2013,
          2014,
          2015,
          2016,
          2017,
          2018,
          2019,
          2001
         ],
         "legendgroup": "Russia",
         "marker": {
          "color": "#FFA15A",
          "opacity": 0.4,
          "symbol": "circle"
         },
         "mode": "markers",
         "name": "Russia",
         "scene": "scene",
         "showlegend": true,
         "type": "scatter3d",
         "x": [
          115076683044.4336,
          115076683044.4336,
          113607231140.13672,
          113607231140.13672,
          113111991882.32422,
          113111991882.32422,
          112112022399.90234,
          112112022399.90234,
          109677253723.14452,
          107766700744.6289,
          105463676452.63672,
          104404815673.82812,
          104033721923.82812,
          106427032470.70312,
          106366165161.1328,
          105563949584.96094,
          105800354003.90623,
          105709449768.0664,
          105491584777.83205,
          105016418457.03123,
          103163894653.32031,
          102375198364.2578,
          106282890319.82422,
          106591537475.58594,
          107220779418.94531,
          107804237365.72266,
          111295173645.01952
         ],
         "y": [
          34734012603759.77,
          34509414672851.56,
          33704689025878.902,
          33425327301025.39,
          33567443847656.25,
          33364048004150.39,
          32949848175048.83,
          33155712127685.547,
          33910552978515.625,
          33773307800292.97,
          33636066436767.58,
          33773307800292.97,
          33773307800292.97,
          33910552978515.625,
          33979175567626.957,
          34047798156738.28,
          34116416931152.344,
          34459526062011.72,
          34640071868896.484,
          34943996429443.36,
          35049060821533.203,
          34957401275634.77,
          34833251953125,
          37888233184814.45,
          37640987396240.24,
          37556739807128.91,
          33361579895019.53
         ],
         "z": [
          1500000,
          1400000,
          1800000,
          1622000,
          1823000,
          1702000,
          1482100,
          1427100,
          1397200,
          1369700,
          1452000,
          1452000,
          1446000,
          1476000,
          1476000,
          1495000,
          1430000,
          1364000,
          1364000,
          1260000,
          1287000,
          1490000,
          1454000,
          1454000,
          1454000,
          1454000,
          1386200
         ]
        }
       ],
       "layout": {
        "height": 700,
        "legend": {
         "title": {
          "text": "Entity"
         },
         "tracegroupgap": 0
        },
        "scene": {
         "domain": {
          "x": [
           0,
           1
          ],
          "y": [
           0,
           1
          ]
         },
         "xaxis": {
          "title": {
           "text": "Oil - Proved reserves"
          }
         },
         "yaxis": {
          "title": {
           "text": "Gas - Proved reserves"
          }
         },
         "zaxis": {
          "title": {
           "text": "Armed forces personnel, total"
          }
         }
        },
        "template": {
         "data": {
          "bar": [
           {
            "error_x": {
             "color": "#2a3f5f"
            },
            "error_y": {
             "color": "#2a3f5f"
            },
            "marker": {
             "line": {
              "color": "#E5ECF6",
              "width": 0.5
             },
             "pattern": {
              "fillmode": "overlay",
              "size": 10,
              "solidity": 0.2
             }
            },
            "type": "bar"
           }
          ],
          "barpolar": [
           {
            "marker": {
             "line": {
              "color": "#E5ECF6",
              "width": 0.5
             },
             "pattern": {
              "fillmode": "overlay",
              "size": 10,
              "solidity": 0.2
             }
            },
            "type": "barpolar"
           }
          ],
          "carpet": [
           {
            "aaxis": {
             "endlinecolor": "#2a3f5f",
             "gridcolor": "white",
             "linecolor": "white",
             "minorgridcolor": "white",
             "startlinecolor": "#2a3f5f"
            },
            "baxis": {
             "endlinecolor": "#2a3f5f",
             "gridcolor": "white",
             "linecolor": "white",
             "minorgridcolor": "white",
             "startlinecolor": "#2a3f5f"
            },
            "type": "carpet"
           }
          ],
          "choropleth": [
           {
            "colorbar": {
             "outlinewidth": 0,
             "ticks": ""
            },
            "type": "choropleth"
           }
          ],
          "contour": [
           {
            "colorbar": {
             "outlinewidth": 0,
             "ticks": ""
            },
            "colorscale": [
             [
              0,
              "#0d0887"
             ],
             [
              0.1111111111111111,
              "#46039f"
             ],
             [
              0.2222222222222222,
              "#7201a8"
             ],
             [
              0.3333333333333333,
              "#9c179e"
             ],
             [
              0.4444444444444444,
              "#bd3786"
             ],
             [
              0.5555555555555556,
              "#d8576b"
             ],
             [
              0.6666666666666666,
              "#ed7953"
             ],
             [
              0.7777777777777778,
              "#fb9f3a"
             ],
             [
              0.8888888888888888,
              "#fdca26"
             ],
             [
              1,
              "#f0f921"
             ]
            ],
            "type": "contour"
           }
          ],
          "contourcarpet": [
           {
            "colorbar": {
             "outlinewidth": 0,
             "ticks": ""
            },
            "type": "contourcarpet"
           }
          ],
          "heatmap": [
           {
            "colorbar": {
             "outlinewidth": 0,
             "ticks": ""
            },
            "colorscale": [
             [
              0,
              "#0d0887"
             ],
             [
              0.1111111111111111,
              "#46039f"
             ],
             [
              0.2222222222222222,
              "#7201a8"
             ],
             [
              0.3333333333333333,
              "#9c179e"
             ],
             [
              0.4444444444444444,
              "#bd3786"
             ],
             [
              0.5555555555555556,
              "#d8576b"
             ],
             [
              0.6666666666666666,
              "#ed7953"
             ],
             [
              0.7777777777777778,
              "#fb9f3a"
             ],
             [
              0.8888888888888888,
              "#fdca26"
             ],
             [
              1,
              "#f0f921"
             ]
            ],
            "type": "heatmap"
           }
          ],
          "heatmapgl": [
           {
            "colorbar": {
             "outlinewidth": 0,
             "ticks": ""
            },
            "colorscale": [
             [
              0,
              "#0d0887"
             ],
             [
              0.1111111111111111,
              "#46039f"
             ],
             [
              0.2222222222222222,
              "#7201a8"
             ],
             [
              0.3333333333333333,
              "#9c179e"
             ],
             [
              0.4444444444444444,
              "#bd3786"
             ],
             [
              0.5555555555555556,
              "#d8576b"
             ],
             [
              0.6666666666666666,
              "#ed7953"
             ],
             [
              0.7777777777777778,
              "#fb9f3a"
             ],
             [
              0.8888888888888888,
              "#fdca26"
             ],
             [
              1,
              "#f0f921"
             ]
            ],
            "type": "heatmapgl"
           }
          ],
          "histogram": [
           {
            "marker": {
             "pattern": {
              "fillmode": "overlay",
              "size": 10,
              "solidity": 0.2
             }
            },
            "type": "histogram"
           }
          ],
          "histogram2d": [
           {
            "colorbar": {
             "outlinewidth": 0,
             "ticks": ""
            },
            "colorscale": [
             [
              0,
              "#0d0887"
             ],
             [
              0.1111111111111111,
              "#46039f"
             ],
             [
              0.2222222222222222,
              "#7201a8"
             ],
             [
              0.3333333333333333,
              "#9c179e"
             ],
             [
              0.4444444444444444,
              "#bd3786"
             ],
             [
              0.5555555555555556,
              "#d8576b"
             ],
             [
              0.6666666666666666,
              "#ed7953"
             ],
             [
              0.7777777777777778,
              "#fb9f3a"
             ],
             [
              0.8888888888888888,
              "#fdca26"
             ],
             [
              1,
              "#f0f921"
             ]
            ],
            "type": "histogram2d"
           }
          ],
          "histogram2dcontour": [
           {
            "colorbar": {
             "outlinewidth": 0,
             "ticks": ""
            },
            "colorscale": [
             [
              0,
              "#0d0887"
             ],
             [
              0.1111111111111111,
              "#46039f"
             ],
             [
              0.2222222222222222,
              "#7201a8"
             ],
             [
              0.3333333333333333,
              "#9c179e"
             ],
             [
              0.4444444444444444,
              "#bd3786"
             ],
             [
              0.5555555555555556,
              "#d8576b"
             ],
             [
              0.6666666666666666,
              "#ed7953"
             ],
             [
              0.7777777777777778,
              "#fb9f3a"
             ],
             [
              0.8888888888888888,
              "#fdca26"
             ],
             [
              1,
              "#f0f921"
             ]
            ],
            "type": "histogram2dcontour"
           }
          ],
          "mesh3d": [
           {
            "colorbar": {
             "outlinewidth": 0,
             "ticks": ""
            },
            "type": "mesh3d"
           }
          ],
          "parcoords": [
           {
            "line": {
             "colorbar": {
              "outlinewidth": 0,
              "ticks": ""
             }
            },
            "type": "parcoords"
           }
          ],
          "pie": [
           {
            "automargin": true,
            "type": "pie"
           }
          ],
          "scatter": [
           {
            "fillpattern": {
             "fillmode": "overlay",
             "size": 10,
             "solidity": 0.2
            },
            "type": "scatter"
           }
          ],
          "scatter3d": [
           {
            "line": {
             "colorbar": {
              "outlinewidth": 0,
              "ticks": ""
             }
            },
            "marker": {
             "colorbar": {
              "outlinewidth": 0,
              "ticks": ""
             }
            },
            "type": "scatter3d"
           }
          ],
          "scattercarpet": [
           {
            "marker": {
             "colorbar": {
              "outlinewidth": 0,
              "ticks": ""
             }
            },
            "type": "scattercarpet"
           }
          ],
          "scattergeo": [
           {
            "marker": {
             "colorbar": {
              "outlinewidth": 0,
              "ticks": ""
             }
            },
            "type": "scattergeo"
           }
          ],
          "scattergl": [
           {
            "marker": {
             "colorbar": {
              "outlinewidth": 0,
              "ticks": ""
             }
            },
            "type": "scattergl"
           }
          ],
          "scattermapbox": [
           {
            "marker": {
             "colorbar": {
              "outlinewidth": 0,
              "ticks": ""
             }
            },
            "type": "scattermapbox"
           }
          ],
          "scatterpolar": [
           {
            "marker": {
             "colorbar": {
              "outlinewidth": 0,
              "ticks": ""
             }
            },
            "type": "scatterpolar"
           }
          ],
          "scatterpolargl": [
           {
            "marker": {
             "colorbar": {
              "outlinewidth": 0,
              "ticks": ""
             }
            },
            "type": "scatterpolargl"
           }
          ],
          "scatterternary": [
           {
            "marker": {
             "colorbar": {
              "outlinewidth": 0,
              "ticks": ""
             }
            },
            "type": "scatterternary"
           }
          ],
          "surface": [
           {
            "colorbar": {
             "outlinewidth": 0,
             "ticks": ""
            },
            "colorscale": [
             [
              0,
              "#0d0887"
             ],
             [
              0.1111111111111111,
              "#46039f"
             ],
             [
              0.2222222222222222,
              "#7201a8"
             ],
             [
              0.3333333333333333,
              "#9c179e"
             ],
             [
              0.4444444444444444,
              "#bd3786"
             ],
             [
              0.5555555555555556,
              "#d8576b"
             ],
             [
              0.6666666666666666,
              "#ed7953"
             ],
             [
              0.7777777777777778,
              "#fb9f3a"
             ],
             [
              0.8888888888888888,
              "#fdca26"
             ],
             [
              1,
              "#f0f921"
             ]
            ],
            "type": "surface"
           }
          ],
          "table": [
           {
            "cells": {
             "fill": {
              "color": "#EBF0F8"
             },
             "line": {
              "color": "white"
             }
            },
            "header": {
             "fill": {
              "color": "#C8D4E3"
             },
             "line": {
              "color": "white"
             }
            },
            "type": "table"
           }
          ]
         },
         "layout": {
          "annotationdefaults": {
           "arrowcolor": "#2a3f5f",
           "arrowhead": 0,
           "arrowwidth": 1
          },
          "autotypenumbers": "strict",
          "coloraxis": {
           "colorbar": {
            "outlinewidth": 0,
            "ticks": ""
           }
          },
          "colorscale": {
           "diverging": [
            [
             0,
             "#8e0152"
            ],
            [
             0.1,
             "#c51b7d"
            ],
            [
             0.2,
             "#de77ae"
            ],
            [
             0.3,
             "#f1b6da"
            ],
            [
             0.4,
             "#fde0ef"
            ],
            [
             0.5,
             "#f7f7f7"
            ],
            [
             0.6,
             "#e6f5d0"
            ],
            [
             0.7,
             "#b8e186"
            ],
            [
             0.8,
             "#7fbc41"
            ],
            [
             0.9,
             "#4d9221"
            ],
            [
             1,
             "#276419"
            ]
           ],
           "sequential": [
            [
             0,
             "#0d0887"
            ],
            [
             0.1111111111111111,
             "#46039f"
            ],
            [
             0.2222222222222222,
             "#7201a8"
            ],
            [
             0.3333333333333333,
             "#9c179e"
            ],
            [
             0.4444444444444444,
             "#bd3786"
            ],
            [
             0.5555555555555556,
             "#d8576b"
            ],
            [
             0.6666666666666666,
             "#ed7953"
            ],
            [
             0.7777777777777778,
             "#fb9f3a"
            ],
            [
             0.8888888888888888,
             "#fdca26"
            ],
            [
             1,
             "#f0f921"
            ]
           ],
           "sequentialminus": [
            [
             0,
             "#0d0887"
            ],
            [
             0.1111111111111111,
             "#46039f"
            ],
            [
             0.2222222222222222,
             "#7201a8"
            ],
            [
             0.3333333333333333,
             "#9c179e"
            ],
            [
             0.4444444444444444,
             "#bd3786"
            ],
            [
             0.5555555555555556,
             "#d8576b"
            ],
            [
             0.6666666666666666,
             "#ed7953"
            ],
            [
             0.7777777777777778,
             "#fb9f3a"
            ],
            [
             0.8888888888888888,
             "#fdca26"
            ],
            [
             1,
             "#f0f921"
            ]
           ]
          },
          "colorway": [
           "#636efa",
           "#EF553B",
           "#00cc96",
           "#ab63fa",
           "#FFA15A",
           "#19d3f3",
           "#FF6692",
           "#B6E880",
           "#FF97FF",
           "#FECB52"
          ],
          "font": {
           "color": "#2a3f5f"
          },
          "geo": {
           "bgcolor": "white",
           "lakecolor": "white",
           "landcolor": "#E5ECF6",
           "showlakes": true,
           "showland": true,
           "subunitcolor": "white"
          },
          "hoverlabel": {
           "align": "left"
          },
          "hovermode": "closest",
          "mapbox": {
           "style": "light"
          },
          "paper_bgcolor": "white",
          "plot_bgcolor": "#E5ECF6",
          "polar": {
           "angularaxis": {
            "gridcolor": "white",
            "linecolor": "white",
            "ticks": ""
           },
           "bgcolor": "#E5ECF6",
           "radialaxis": {
            "gridcolor": "white",
            "linecolor": "white",
            "ticks": ""
           }
          },
          "scene": {
           "xaxis": {
            "backgroundcolor": "#E5ECF6",
            "gridcolor": "white",
            "gridwidth": 2,
            "linecolor": "white",
            "showbackground": true,
            "ticks": "",
            "zerolinecolor": "white"
           },
           "yaxis": {
            "backgroundcolor": "#E5ECF6",
            "gridcolor": "white",
            "gridwidth": 2,
            "linecolor": "white",
            "showbackground": true,
            "ticks": "",
            "zerolinecolor": "white"
           },
           "zaxis": {
            "backgroundcolor": "#E5ECF6",
            "gridcolor": "white",
            "gridwidth": 2,
            "linecolor": "white",
            "showbackground": true,
            "ticks": "",
            "zerolinecolor": "white"
           }
          },
          "shapedefaults": {
           "line": {
            "color": "#2a3f5f"
           }
          },
          "ternary": {
           "aaxis": {
            "gridcolor": "white",
            "linecolor": "white",
            "ticks": ""
           },
           "baxis": {
            "gridcolor": "white",
            "linecolor": "white",
            "ticks": ""
           },
           "bgcolor": "#E5ECF6",
           "caxis": {
            "gridcolor": "white",
            "linecolor": "white",
            "ticks": ""
           }
          },
          "title": {
           "x": 0.05
          },
          "xaxis": {
           "automargin": true,
           "gridcolor": "white",
           "linecolor": "white",
           "ticks": "",
           "title": {
            "standoff": 15
           },
           "zerolinecolor": "white",
           "zerolinewidth": 2
          },
          "yaxis": {
           "automargin": true,
           "gridcolor": "white",
           "linecolor": "white",
           "ticks": "",
           "title": {
            "standoff": 15
           },
           "zerolinecolor": "white",
           "zerolinewidth": 2
          }
         }
        },
        "title": {
         "text": "Reservas Probadas de Aceite y Gas del Top 5 de países con mayor Fuerza Militar"
        }
       }
      }
     },
     "metadata": {},
     "output_type": "display_data"
    }
   ],
   "source": [
    "fig_scatter3d_df_topN=px.scatter_3d(df_afp_topN,x=\"Oil - Proved reserves\",y=\"Gas - Proved reserves\",\n",
    "    z=\"Armed forces personnel, total\", color=\"Entity\",opacity=0.4,hover_name=\"Year\",height=700,\n",
    "    title=\"Reservas Probadas de Aceite y Gas del Top \"+str(len(df_afp_topN[\"Code\"].unique()))+\" de países con mayor Fuerza Militar\")\n",
    "    #NOTA: Podemos agregar un atributo llamado text=\"Year\" en la gráfica para que se muestren los años \n",
    "    # y se vea guapeton, la contra es que es mucha info para mostrar en una sola imágen\n",
    "fig_scatter3d_df_topN.show()"
   ]
  },
  {
   "cell_type": "markdown",
   "metadata": {},
   "source": [
    "Algoritmo de regresión"
   ]
  },
  {
   "cell_type": "code",
   "execution_count": 85,
   "metadata": {},
   "outputs": [
    {
     "data": {
      "text/html": [
       "<div>\n",
       "<style scoped>\n",
       "    .dataframe tbody tr th:only-of-type {\n",
       "        vertical-align: middle;\n",
       "    }\n",
       "\n",
       "    .dataframe tbody tr th {\n",
       "        vertical-align: top;\n",
       "    }\n",
       "\n",
       "    .dataframe thead th {\n",
       "        text-align: right;\n",
       "    }\n",
       "</style>\n",
       "<table border=\"1\" class=\"dataframe\">\n",
       "  <thead>\n",
       "    <tr style=\"text-align: right;\">\n",
       "      <th></th>\n",
       "      <th>Entity</th>\n",
       "      <th>Code</th>\n",
       "      <th>Year</th>\n",
       "      <th>Armed forces personnel, total</th>\n",
       "      <th>military_expenditure</th>\n",
       "      <th>military_expenditure_per_capita</th>\n",
       "      <th>Gas - Proved reserves</th>\n",
       "      <th>Oil - Proved reserves</th>\n",
       "    </tr>\n",
       "  </thead>\n",
       "  <tbody>\n",
       "    <tr>\n",
       "      <th>0</th>\n",
       "      <td>China</td>\n",
       "      <td>CHN</td>\n",
       "      <td>1989.0</td>\n",
       "      <td>3900000.0</td>\n",
       "      <td>19576596590.0</td>\n",
       "      <td>9.71</td>\n",
       "      <td>1030845642089.84375</td>\n",
       "      <td>16058490753.173828</td>\n",
       "    </tr>\n",
       "    <tr>\n",
       "      <th>1</th>\n",
       "      <td>United States</td>\n",
       "      <td>USA</td>\n",
       "      <td>1989.0</td>\n",
       "      <td>2240000.0</td>\n",
       "      <td>663787520434.0</td>\n",
       "      <td>1288.88</td>\n",
       "      <td>4531080245971.679688</td>\n",
       "      <td>34270000457.763672</td>\n",
       "    </tr>\n",
       "    <tr>\n",
       "      <th>2</th>\n",
       "      <td>India</td>\n",
       "      <td>IND</td>\n",
       "      <td>1989.0</td>\n",
       "      <td>1260000.0</td>\n",
       "      <td>20917686140.0</td>\n",
       "      <td>12.38</td>\n",
       "      <td>668850004673.00415</td>\n",
       "      <td>4345399856.567383</td>\n",
       "    </tr>\n",
       "    <tr>\n",
       "      <th>3</th>\n",
       "      <td>Vietnam</td>\n",
       "      <td>VNM</td>\n",
       "      <td>1989.0</td>\n",
       "      <td>1250000.0</td>\n",
       "      <td>1695261693.0</td>\n",
       "      <td>6.89</td>\n",
       "      <td>0.0</td>\n",
       "      <td>109499998.390675</td>\n",
       "    </tr>\n",
       "    <tr>\n",
       "      <th>4</th>\n",
       "      <td>China</td>\n",
       "      <td>CHN</td>\n",
       "      <td>1990.0</td>\n",
       "      <td>3500000.0</td>\n",
       "      <td>21281576429.0</td>\n",
       "      <td>8.43</td>\n",
       "      <td>1006858348846.435547</td>\n",
       "      <td>16019714355.46875</td>\n",
       "    </tr>\n",
       "  </tbody>\n",
       "</table>\n",
       "</div>"
      ],
      "text/plain": [
       "          Entity Code    Year Armed forces personnel, total  \\\n",
       "0          China  CHN  1989.0                     3900000.0   \n",
       "1  United States  USA  1989.0                     2240000.0   \n",
       "2          India  IND  1989.0                     1260000.0   \n",
       "3        Vietnam  VNM  1989.0                     1250000.0   \n",
       "4          China  CHN  1990.0                     3500000.0   \n",
       "\n",
       "  military_expenditure military_expenditure_per_capita Gas - Proved reserves  \\\n",
       "0        19576596590.0                            9.71   1030845642089.84375   \n",
       "1       663787520434.0                         1288.88  4531080245971.679688   \n",
       "2        20917686140.0                           12.38    668850004673.00415   \n",
       "3         1695261693.0                            6.89                   0.0   \n",
       "4        21281576429.0                            8.43  1006858348846.435547   \n",
       "\n",
       "  Oil - Proved reserves  \n",
       "0    16058490753.173828  \n",
       "1    34270000457.763672  \n",
       "2     4345399856.567383  \n",
       "3      109499998.390675  \n",
       "4     16019714355.46875  "
      ]
     },
     "execution_count": 85,
     "metadata": {},
     "output_type": "execute_result"
    }
   ],
   "source": [
    "df_afp_topN.head()"
   ]
  },
  {
   "cell_type": "code",
   "execution_count": 86,
   "metadata": {},
   "outputs": [
    {
     "name": "stdout",
     "output_type": "stream",
     "text": [
      "Se tienen 5 campos únicos\n",
      "['CHN' 'USA' 'IND' 'VNM' 'RUS']\n",
      "['China' 'United States' 'India' 'Vietnam' 'Russia']\n"
     ]
    }
   ],
   "source": [
    "print(\"Se tienen \"+str(len(df_afp_topN[\"Code\"].unique()))+\" campos únicos\")\n",
    "print(df_afp_topN[\"Code\"].unique())\n",
    "print(df_afp_topN[\"Entity\"].unique())"
   ]
  },
  {
   "cell_type": "code",
   "execution_count": 87,
   "metadata": {},
   "outputs": [],
   "source": [
    "#Seperamos en X e y\n",
    "X = df_afp_topN.drop([\"Code\",\"Entity\"], axis=1) #Elimino de mi dataset la variable a predecir\n",
    "y = df_afp_topN.Entity #Defino el Target"
   ]
  },
  {
   "cell_type": "code",
   "execution_count": 88,
   "metadata": {},
   "outputs": [
    {
     "data": {
      "text/plain": [
       "0              China\n",
       "1      United States\n",
       "2              India\n",
       "3            Vietnam\n",
       "4              China\n",
       "           ...      \n",
       "119    United States\n",
       "120            China\n",
       "121            India\n",
       "122    United States\n",
       "123           Russia\n",
       "Name: Entity, Length: 124, dtype: object"
      ]
     },
     "execution_count": 88,
     "metadata": {},
     "output_type": "execute_result"
    }
   ],
   "source": [
    "y"
   ]
  },
  {
   "cell_type": "code",
   "execution_count": 102,
   "metadata": {},
   "outputs": [],
   "source": [
    "#Importamos la libreria para separar en train y test\n",
    "from sklearn.model_selection import train_test_split\n",
    "\n",
    "#Me quedo con 30% para test y 70% para train\n",
    "X_train, X_test, y_train, y_test = train_test_split(X, y, test_size=0.40, random_state=123)"
   ]
  },
  {
   "cell_type": "code",
   "execution_count": 103,
   "metadata": {},
   "outputs": [
    {
     "data": {
      "text/html": [
       "<div>\n",
       "<style scoped>\n",
       "    .dataframe tbody tr th:only-of-type {\n",
       "        vertical-align: middle;\n",
       "    }\n",
       "\n",
       "    .dataframe tbody tr th {\n",
       "        vertical-align: top;\n",
       "    }\n",
       "\n",
       "    .dataframe thead th {\n",
       "        text-align: right;\n",
       "    }\n",
       "</style>\n",
       "<table border=\"1\" class=\"dataframe\">\n",
       "  <thead>\n",
       "    <tr style=\"text-align: right;\">\n",
       "      <th></th>\n",
       "      <th>Year</th>\n",
       "      <th>Armed forces personnel, total</th>\n",
       "      <th>military_expenditure</th>\n",
       "      <th>military_expenditure_per_capita</th>\n",
       "      <th>Gas - Proved reserves</th>\n",
       "      <th>Oil - Proved reserves</th>\n",
       "    </tr>\n",
       "  </thead>\n",
       "  <tbody>\n",
       "    <tr>\n",
       "      <th>44</th>\n",
       "      <td>2000.0</td>\n",
       "      <td>3910000.0</td>\n",
       "      <td>41167343480.0</td>\n",
       "      <td>17.23</td>\n",
       "      <td>1377652406692.504883</td>\n",
       "      <td>15190299987.792969</td>\n",
       "    </tr>\n",
       "    <tr>\n",
       "      <th>79</th>\n",
       "      <td>2009.0</td>\n",
       "      <td>1495000.0</td>\n",
       "      <td>48841027503.0</td>\n",
       "      <td>359.54</td>\n",
       "      <td>34047798156738.28125</td>\n",
       "      <td>105563949584.960938</td>\n",
       "    </tr>\n",
       "    <tr>\n",
       "      <th>118</th>\n",
       "      <td>2019.0</td>\n",
       "      <td>1454000.0</td>\n",
       "      <td>65201335848.0</td>\n",
       "      <td>446.98</td>\n",
       "      <td>37556739807128.90625</td>\n",
       "      <td>107804237365.722656</td>\n",
       "    </tr>\n",
       "    <tr>\n",
       "      <th>110</th>\n",
       "      <td>2017.0</td>\n",
       "      <td>1454000.0</td>\n",
       "      <td>64847527603.0</td>\n",
       "      <td>459.79</td>\n",
       "      <td>37888233184814.453125</td>\n",
       "      <td>106591537475.585938</td>\n",
       "    </tr>\n",
       "    <tr>\n",
       "      <th>12</th>\n",
       "      <td>1992.0</td>\n",
       "      <td>3160000.0</td>\n",
       "      <td>27509248537.0</td>\n",
       "      <td>10.15</td>\n",
       "      <td>1409904122352.600098</td>\n",
       "      <td>15193110466.003418</td>\n",
       "    </tr>\n",
       "    <tr>\n",
       "      <th>...</th>\n",
       "      <td>...</td>\n",
       "      <td>...</td>\n",
       "      <td>...</td>\n",
       "      <td>...</td>\n",
       "      <td>...</td>\n",
       "      <td>...</td>\n",
       "    </tr>\n",
       "    <tr>\n",
       "      <th>102</th>\n",
       "      <td>2015.0</td>\n",
       "      <td>1490000.0</td>\n",
       "      <td>74649044319.0</td>\n",
       "      <td>458.13</td>\n",
       "      <td>34957401275634.769531</td>\n",
       "      <td>102375198364.257797</td>\n",
       "    </tr>\n",
       "    <tr>\n",
       "      <th>98</th>\n",
       "      <td>2014.0</td>\n",
       "      <td>1381250.0</td>\n",
       "      <td>699563841964.0</td>\n",
       "      <td>2032.77</td>\n",
       "      <td>9996812820434.570312</td>\n",
       "      <td>54962001800.537109</td>\n",
       "    </tr>\n",
       "    <tr>\n",
       "      <th>92</th>\n",
       "      <td>2013.0</td>\n",
       "      <td>2993000.0</td>\n",
       "      <td>165588732015.0</td>\n",
       "      <td>117.88</td>\n",
       "      <td>3374516725540.161133</td>\n",
       "      <td>24682514190.673828</td>\n",
       "    </tr>\n",
       "    <tr>\n",
       "      <th>66</th>\n",
       "      <td>2006.0</td>\n",
       "      <td>1498000.0</td>\n",
       "      <td>708077303466.0</td>\n",
       "      <td>1875.12</td>\n",
       "      <td>5723228454589.84375</td>\n",
       "      <td>29444000244.140625</td>\n",
       "    </tr>\n",
       "    <tr>\n",
       "      <th>109</th>\n",
       "      <td>2017.0</td>\n",
       "      <td>2695000.0</td>\n",
       "      <td>216487099942.0</td>\n",
       "      <td>148.09</td>\n",
       "      <td>6070297718048.095703</td>\n",
       "      <td>25948200225.830078</td>\n",
       "    </tr>\n",
       "  </tbody>\n",
       "</table>\n",
       "<p>74 rows × 6 columns</p>\n",
       "</div>"
      ],
      "text/plain": [
       "       Year Armed forces personnel, total military_expenditure  \\\n",
       "44   2000.0                     3910000.0        41167343480.0   \n",
       "79   2009.0                     1495000.0        48841027503.0   \n",
       "118  2019.0                     1454000.0        65201335848.0   \n",
       "110  2017.0                     1454000.0        64847527603.0   \n",
       "12   1992.0                     3160000.0        27509248537.0   \n",
       "..      ...                           ...                  ...   \n",
       "102  2015.0                     1490000.0        74649044319.0   \n",
       "98   2014.0                     1381250.0       699563841964.0   \n",
       "92   2013.0                     2993000.0       165588732015.0   \n",
       "66   2006.0                     1498000.0       708077303466.0   \n",
       "109  2017.0                     2695000.0       216487099942.0   \n",
       "\n",
       "    military_expenditure_per_capita  Gas - Proved reserves  \\\n",
       "44                            17.23   1377652406692.504883   \n",
       "79                           359.54   34047798156738.28125   \n",
       "118                          446.98   37556739807128.90625   \n",
       "110                          459.79  37888233184814.453125   \n",
       "12                            10.15   1409904122352.600098   \n",
       "..                              ...                    ...   \n",
       "102                          458.13  34957401275634.769531   \n",
       "98                          2032.77   9996812820434.570312   \n",
       "92                           117.88   3374516725540.161133   \n",
       "66                          1875.12    5723228454589.84375   \n",
       "109                          148.09   6070297718048.095703   \n",
       "\n",
       "    Oil - Proved reserves  \n",
       "44     15190299987.792969  \n",
       "79    105563949584.960938  \n",
       "118   107804237365.722656  \n",
       "110   106591537475.585938  \n",
       "12     15193110466.003418  \n",
       "..                    ...  \n",
       "102   102375198364.257797  \n",
       "98     54962001800.537109  \n",
       "92     24682514190.673828  \n",
       "66     29444000244.140625  \n",
       "109    25948200225.830078  \n",
       "\n",
       "[74 rows x 6 columns]"
      ]
     },
     "execution_count": 103,
     "metadata": {},
     "output_type": "execute_result"
    }
   ],
   "source": [
    "X_train\n"
   ]
  },
  {
   "cell_type": "code",
   "execution_count": 104,
   "metadata": {},
   "outputs": [
    {
     "name": "stdout",
     "output_type": "stream",
     "text": [
      "Porcentaje de número de datos para testear: 40.32%\n"
     ]
    }
   ],
   "source": [
    "print(\"Porcentaje de número de datos para testear: \"+str(round(len(X_test)/len(X)*100,2))+\"%\")"
   ]
  },
  {
   "cell_type": "markdown",
   "metadata": {},
   "source": [
    "Vamos a usar el decision Tree Classifier"
   ]
  },
  {
   "cell_type": "code",
   "execution_count": 105,
   "metadata": {},
   "outputs": [],
   "source": [
    "from sklearn.tree import DecisionTreeClassifier #Importamos el modelo\n",
    "tree = DecisionTreeClassifier(max_depth=2, random_state = 42) #Creamos el modelo"
   ]
  },
  {
   "cell_type": "code",
   "execution_count": 106,
   "metadata": {},
   "outputs": [
    {
     "data": {
      "text/plain": [
       "DecisionTreeClassifier(max_depth=2, random_state=42)"
      ]
     },
     "execution_count": 106,
     "metadata": {},
     "output_type": "execute_result"
    }
   ],
   "source": [
    "#Entrenamos el modelo\n",
    "tree.fit(X_train,y_train)"
   ]
  },
  {
   "cell_type": "code",
   "execution_count": 107,
   "metadata": {},
   "outputs": [
    {
     "data": {
      "text/plain": [
       "array(['China', 'Russia', 'Russia', 'Russia', 'China', 'Russia', 'China',\n",
       "       'China', 'United States', 'China', 'China', 'China', 'China',\n",
       "       'Russia', 'United States', 'United States', 'China', 'China',\n",
       "       'Russia', 'Russia', 'Russia', 'Russia', 'China', 'Russia',\n",
       "       'Russia', 'China', 'United States', 'China', 'Russia', 'China',\n",
       "       'China', 'China', 'China', 'China', 'Russia', 'United States',\n",
       "       'China', 'China', 'China', 'China', 'China', 'United States',\n",
       "       'Russia', 'United States', 'United States', 'China', 'China',\n",
       "       'Russia', 'Russia', 'China', 'China', 'China', 'United States',\n",
       "       'China', 'United States', 'China', 'China', 'China',\n",
       "       'United States', 'China', 'China', 'Russia', 'China', 'China',\n",
       "       'United States', 'China', 'Russia', 'Russia', 'United States',\n",
       "       'Russia', 'United States', 'China', 'United States', 'China'],\n",
       "      dtype=object)"
      ]
     },
     "execution_count": 107,
     "metadata": {},
     "output_type": "execute_result"
    }
   ],
   "source": [
    "y_train_pred = tree.predict(X_train) #Prediccion en Train\n",
    "y_train_pred"
   ]
  },
  {
   "cell_type": "code",
   "execution_count": 108,
   "metadata": {},
   "outputs": [
    {
     "data": {
      "text/plain": [
       "array(['China', 'United States', 'China', 'China', 'United States',\n",
       "       'China', 'China', 'Russia', 'China', 'China', 'China',\n",
       "       'United States', 'China', 'China', 'United States', 'China',\n",
       "       'United States', 'China', 'Russia', 'United States',\n",
       "       'United States', 'China', 'United States', 'China', 'Russia',\n",
       "       'China', 'China', 'United States', 'China', 'China',\n",
       "       'United States', 'China', 'China', 'United States', 'China',\n",
       "       'United States', 'Russia', 'Russia', 'United States', 'China',\n",
       "       'United States', 'Russia', 'United States', 'China', 'China',\n",
       "       'China', 'United States', 'Russia', 'China', 'China'], dtype=object)"
      ]
     },
     "execution_count": 108,
     "metadata": {},
     "output_type": "execute_result"
    }
   ],
   "source": [
    "y_test_pred = tree.predict(X_test) #Prediccion en Test\n",
    "y_test_pred"
   ]
  },
  {
   "cell_type": "code",
   "execution_count": 110,
   "metadata": {},
   "outputs": [
    {
     "name": "stdout",
     "output_type": "stream",
     "text": [
      "% de aciertos sobre el set de entrenamiento: 0.7432432432432432\n",
      "% de aciertos sobre el set de evaluación: 0.68\n"
     ]
    }
   ],
   "source": [
    "from sklearn.metrics import accuracy_score\n",
    "\n",
    "#Calculo el accuracy en Train\n",
    "train_accuracy = accuracy_score(y_train, y_train_pred)\n",
    "\n",
    "#Calculo el accuracy en Test\n",
    "test_accuracy = accuracy_score(y_test, y_test_pred)\n",
    "\n",
    "print('% de aciertos sobre el set de entrenamiento:', train_accuracy)\n",
    "print('% de aciertos sobre el set de evaluación:',test_accuracy)"
   ]
  },
  {
   "cell_type": "code",
   "execution_count": 120,
   "metadata": {},
   "outputs": [
    {
     "data": {
      "text/html": [
       "<div>\n",
       "<style scoped>\n",
       "    .dataframe tbody tr th:only-of-type {\n",
       "        vertical-align: middle;\n",
       "    }\n",
       "\n",
       "    .dataframe tbody tr th {\n",
       "        vertical-align: top;\n",
       "    }\n",
       "\n",
       "    .dataframe thead th {\n",
       "        text-align: right;\n",
       "    }\n",
       "</style>\n",
       "<table border=\"1\" class=\"dataframe\">\n",
       "  <thead>\n",
       "    <tr style=\"text-align: right;\">\n",
       "      <th></th>\n",
       "      <th>Year</th>\n",
       "      <th>Armed forces personnel, total</th>\n",
       "      <th>military_expenditure</th>\n",
       "      <th>military_expenditure_per_capita</th>\n",
       "      <th>Gas - Proved reserves</th>\n",
       "      <th>Oil - Proved reserves</th>\n",
       "    </tr>\n",
       "  </thead>\n",
       "  <tbody>\n",
       "    <tr>\n",
       "      <th>4</th>\n",
       "      <td>1990.0</td>\n",
       "      <td>3500000.0</td>\n",
       "      <td>21281576429.0</td>\n",
       "      <td>8.43</td>\n",
       "      <td>1006858348846.435547</td>\n",
       "      <td>16019714355.46875</td>\n",
       "    </tr>\n",
       "    <tr>\n",
       "      <th>119</th>\n",
       "      <td>2019.0</td>\n",
       "      <td>1388000.0</td>\n",
       "      <td>734344100000.0</td>\n",
       "      <td>2231.61</td>\n",
       "      <td>12618704795837.402344</td>\n",
       "      <td>68757003784.179688</td>\n",
       "    </tr>\n",
       "    <tr>\n",
       "      <th>88</th>\n",
       "      <td>2012.0</td>\n",
       "      <td>2993000.0</td>\n",
       "      <td>153137643797.0</td>\n",
       "      <td>104.85</td>\n",
       "      <td>3139862298965.454102</td>\n",
       "      <td>24427835464.477539</td>\n",
       "    </tr>\n",
       "    <tr>\n",
       "      <th>100</th>\n",
       "      <td>2015.0</td>\n",
       "      <td>2843000.0</td>\n",
       "      <td>192843125211.0</td>\n",
       "      <td>139.7</td>\n",
       "      <td>4679402351379.394531</td>\n",
       "      <td>25626464843.75</td>\n",
       "    </tr>\n",
       "    <tr>\n",
       "      <th>42</th>\n",
       "      <td>1999.0</td>\n",
       "      <td>1575000.0</td>\n",
       "      <td>457512650980.0</td>\n",
       "      <td>1070.17</td>\n",
       "      <td>4538943290710.449219</td>\n",
       "      <td>29670999526.977539</td>\n",
       "    </tr>\n",
       "  </tbody>\n",
       "</table>\n",
       "</div>"
      ],
      "text/plain": [
       "       Year Armed forces personnel, total military_expenditure  \\\n",
       "4    1990.0                     3500000.0        21281576429.0   \n",
       "119  2019.0                     1388000.0       734344100000.0   \n",
       "88   2012.0                     2993000.0       153137643797.0   \n",
       "100  2015.0                     2843000.0       192843125211.0   \n",
       "42   1999.0                     1575000.0       457512650980.0   \n",
       "\n",
       "    military_expenditure_per_capita  Gas - Proved reserves  \\\n",
       "4                              8.43   1006858348846.435547   \n",
       "119                         2231.61  12618704795837.402344   \n",
       "88                           104.85   3139862298965.454102   \n",
       "100                           139.7   4679402351379.394531   \n",
       "42                          1070.17   4538943290710.449219   \n",
       "\n",
       "    Oil - Proved reserves  \n",
       "4       16019714355.46875  \n",
       "119    68757003784.179688  \n",
       "88     24427835464.477539  \n",
       "100        25626464843.75  \n",
       "42     29670999526.977539  "
      ]
     },
     "execution_count": 120,
     "metadata": {},
     "output_type": "execute_result"
    }
   ],
   "source": [
    "X_test.head()"
   ]
  },
  {
   "cell_type": "code",
   "execution_count": 117,
   "metadata": {},
   "outputs": [
    {
     "data": {
      "text/plain": [
       "<matplotlib.collections.PathCollection at 0x28355eaee80>"
      ]
     },
     "execution_count": 117,
     "metadata": {},
     "output_type": "execute_result"
    },
    {
     "data": {
      "image/png": "[encoded data removed]",
      "text/plain": [
       "<Figure size 432x288 with 1 Axes>"
      ]
     },
     "metadata": {
      "needs_background": "light"
     },
     "output_type": "display_data"
    }
   ],
   "source": [
    "import matplotlib.pyplot as plt\n",
    "\n",
    "plt.scatter(x=X_test.Year,y=y_test_pred)"
   ]
  },
  {
   "cell_type": "code",
   "execution_count": 119,
   "metadata": {},
   "outputs": [
    {
     "data": {
      "application/vnd.plotly.v1+json": {
       "config": {
        "plotlyServerURL": "https://plot.ly"
       },
       "data": [
        {
         "hovertemplate": "<b>%{hovertext}</b><br><br>Oil - Proved reserves=%{x}<br>Gas - Proved reserves=%{y}<br>Armed forces personnel, total=%{z}<extra></extra>",
         "hovertext": [
          1990,
          2019,
          2012,
          2015,
          1999,
          1996,
          1996,
          2001,
          2003,
          1997,
          1993,
          2012,
          1995,
          1991,
          1990,
          1989,
          1992,
          2008,
          2002,
          2018,
          2015,
          2016,
          1996,
          2015,
          2012,
          2017,
          2006,
          1997,
          2005,
          1993,
          2010,
          2013,
          1994,
          1991,
          2018,
          2007,
          1998,
          2005,
          2005,
          2009,
          2013,
          2004,
          1994,
          1991,
          2000,
          2010,
          2008,
          2007,
          2012,
          1999
         ],
         "legendgroup": "",
         "marker": {
          "color": "#636efa",
          "opacity": 0.4,
          "symbol": "circle"
         },
         "mode": "markers",
         "name": "",
         "scene": "scene",
         "showlegend": false,
         "type": "scatter3d",
         "x": [
          16019714355.46875,
          68757003784.17969,
          24427835464.47754,
          25626464843.75,
          29670999526.97754,
          16444488525.390623,
          5486960411.071777,
          111295173645.01952,
          5731158256.530762,
          5625437259.674072,
          16435325622.558594,
          44180000305.17578,
          16355062484.74121,
          15513212203.979492,
          33840000152.58789,
          16058490753.173828,
          31195999145.50781,
          21186851501.464844,
          109677253723.14452,
          68893997192.38281,
          47986999511.71875,
          4678238391.876221,
          29840000152.58789,
          4786067962.646484,
          105491584777.83205,
          4548865318.29834,
          5692679882.049561,
          30518999099.731445,
          18249654769.89746,
          5860000133.514404,
          34990001678.4668,
          5711030483.24585,
          5807300090.789795,
          32145999908.447266,
          26190090179.44336,
          30459999084.472656,
          113111991882.32422,
          104404815673.82812,
          29922000885.00977,
          5822873592.376709,
          48463001251.2207,
          105463676452.63672,
          29627000808.71582,
          239999994.635582,
          5289900302.886963,
          5833189964.294434,
          28395999908.447266,
          106427032470.70312,
          5719712734.222412,
          4972209453.582764
         ],
         "y": [
          1006858348846.4355,
          12618704795837.402,
          3139862298965.454,
          4679402351379.395,
          4538943290710.449,
          1179606676101.6846,
          617260873317.7185,
          33361579895019.53,
          821974992752.0752,
          666300237178.8025,
          1683842182159.4238,
          8351898193359.375,
          1682834267616.272,
          1009680390357.9712,
          4591543197631.836,
          1030845642089.8438,
          4474114894866.943,
          2710600852966.3086,
          33910552978515.625,
          12874004364013.672,
          8343601226806.641,
          1181372523307.8003,
          4513673305511.475,
          1204944133758.545,
          34640071868896.484,
          1241331458091.7358,
          1048125028610.2296,
          4533981323242.188,
          1546642184257.507,
          700049996376.0376,
          8259414672851.562,
          1303956508636.4746,
          684449970722.1985,
          4529616355895.996,
          6363927841186.523,
          6445556163787.842,
          33364048004150.39,
          33773307800292.97,
          5541568756103.516,
          1073437690734.8632,
          9171482086181.64,
          33636066436767.58,
          4442175388336.182,
          14624999836.087229,
          731317102909.0881,
          1105498671531.6772,
          6633451938629.15,
          33910552978515.625,
          1280356049537.6587,
          623661518096.9238
         ],
         "z": [
          3500000,
          1388000,
          2993000,
          2843000,
          1575000,
          4135000,
          2223000,
          1386200,
          2414700,
          2233000,
          3030000,
          1492200,
          4130000,
          3200000,
          2180000,
          3900000,
          1920000,
          2885000,
          1397200,
          1379800,
          1347300,
          2981050,
          1572100,
          2798800,
          1364000,
          3031000,
          2589000,
          1533300,
          3755000,
          1270000,
          1569417,
          2749700,
          1270000,
          2120000,
          2695000,
          1555000,
          1702000,
          1452000,
          1546000,
          2625586,
          1433150,
          1452000,
          1720000,
          1040000,
          2372000,
          2625586,
          1540000,
          1476000,
          2728700,
          2263000
         ]
        }
       ],
       "layout": {
        "height": 700,
        "legend": {
         "tracegroupgap": 0
        },
        "scene": {
         "domain": {
          "x": [
           0,
           1
          ],
          "y": [
           0,
           1
          ]
         },
         "xaxis": {
          "title": {
           "text": "Oil - Proved reserves"
          }
         },
         "yaxis": {
          "title": {
           "text": "Gas - Proved reserves"
          }
         },
         "zaxis": {
          "title": {
           "text": "Armed forces personnel, total"
          }
         }
        },
        "template": {
         "data": {
          "bar": [
           {
            "error_x": {
             "color": "#2a3f5f"
            },
            "error_y": {
             "color": "#2a3f5f"
            },
            "marker": {
             "line": {
              "color": "#E5ECF6",
              "width": 0.5
             },
             "pattern": {
              "fillmode": "overlay",
              "size": 10,
              "solidity": 0.2
             }
            },
            "type": "bar"
           }
          ],
          "barpolar": [
           {
            "marker": {
             "line": {
              "color": "#E5ECF6",
              "width": 0.5
             },
             "pattern": {
              "fillmode": "overlay",
              "size": 10,
              "solidity": 0.2
             }
            },
            "type": "barpolar"
           }
          ],
          "carpet": [
           {
            "aaxis": {
             "endlinecolor": "#2a3f5f",
             "gridcolor": "white",
             "linecolor": "white",
             "minorgridcolor": "white",
             "startlinecolor": "#2a3f5f"
            },
            "baxis": {
             "endlinecolor": "#2a3f5f",
             "gridcolor": "white",
             "linecolor": "white",
             "minorgridcolor": "white",
             "startlinecolor": "#2a3f5f"
            },
            "type": "carpet"
           }
          ],
          "choropleth": [
           {
            "colorbar": {
             "outlinewidth": 0,
             "ticks": ""
            },
            "type": "choropleth"
           }
          ],
          "contour": [
           {
            "colorbar": {
             "outlinewidth": 0,
             "ticks": ""
            },
            "colorscale": [
             [
              0,
              "#0d0887"
             ],
             [
              0.1111111111111111,
              "#46039f"
             ],
             [
              0.2222222222222222,
              "#7201a8"
             ],
             [
              0.3333333333333333,
              "#9c179e"
             ],
             [
              0.4444444444444444,
              "#bd3786"
             ],
             [
              0.5555555555555556,
              "#d8576b"
             ],
             [
              0.6666666666666666,
              "#ed7953"
             ],
             [
              0.7777777777777778,
              "#fb9f3a"
             ],
             [
              0.8888888888888888,
              "#fdca26"
             ],
             [
              1,
              "#f0f921"
             ]
            ],
            "type": "contour"
           }
          ],
          "contourcarpet": [
           {
            "colorbar": {
             "outlinewidth": 0,
             "ticks": ""
            },
            "type": "contourcarpet"
           }
          ],
          "heatmap": [
           {
            "colorbar": {
             "outlinewidth": 0,
             "ticks": ""
            },
            "colorscale": [
             [
              0,
              "#0d0887"
             ],
             [
              0.1111111111111111,
              "#46039f"
             ],
             [
              0.2222222222222222,
              "#7201a8"
             ],
             [
              0.3333333333333333,
              "#9c179e"
             ],
             [
              0.4444444444444444,
              "#bd3786"
             ],
             [
              0.5555555555555556,
              "#d8576b"
             ],
             [
              0.6666666666666666,
              "#ed7953"
             ],
             [
              0.7777777777777778,
              "#fb9f3a"
             ],
             [
              0.8888888888888888,
              "#fdca26"
             ],
             [
              1,
              "#f0f921"
             ]
            ],
            "type": "heatmap"
           }
          ],
          "heatmapgl": [
           {
            "colorbar": {
             "outlinewidth": 0,
             "ticks": ""
            },
            "colorscale": [
             [
              0,
              "#0d0887"
             ],
             [
              0.1111111111111111,
              "#46039f"
             ],
             [
              0.2222222222222222,
              "#7201a8"
             ],
             [
              0.3333333333333333,
              "#9c179e"
             ],
             [
              0.4444444444444444,
              "#bd3786"
             ],
             [
              0.5555555555555556,
              "#d8576b"
             ],
             [
              0.6666666666666666,
              "#ed7953"
             ],
             [
              0.7777777777777778,
              "#fb9f3a"
             ],
             [
              0.8888888888888888,
              "#fdca26"
             ],
             [
              1,
              "#f0f921"
             ]
            ],
            "type": "heatmapgl"
           }
          ],
          "histogram": [
           {
            "marker": {
             "pattern": {
              "fillmode": "overlay",
              "size": 10,
              "solidity": 0.2
             }
            },
            "type": "histogram"
           }
          ],
          "histogram2d": [
           {
            "colorbar": {
             "outlinewidth": 0,
             "ticks": ""
            },
            "colorscale": [
             [
              0,
              "#0d0887"
             ],
             [
              0.1111111111111111,
              "#46039f"
             ],
             [
              0.2222222222222222,
              "#7201a8"
             ],
             [
              0.3333333333333333,
              "#9c179e"
             ],
             [
              0.4444444444444444,
              "#bd3786"
             ],
             [
              0.5555555555555556,
              "#d8576b"
             ],
             [
              0.6666666666666666,
              "#ed7953"
             ],
             [
              0.7777777777777778,
              "#fb9f3a"
             ],
             [
              0.8888888888888888,
              "#fdca26"
             ],
             [
              1,
              "#f0f921"
             ]
            ],
            "type": "histogram2d"
           }
          ],
          "histogram2dcontour": [
           {
            "colorbar": {
             "outlinewidth": 0,
             "ticks": ""
            },
            "colorscale": [
             [
              0,
              "#0d0887"
             ],
             [
              0.1111111111111111,
              "#46039f"
             ],
             [
              0.2222222222222222,
              "#7201a8"
             ],
             [
              0.3333333333333333,
              "#9c179e"
             ],
             [
              0.4444444444444444,
              "#bd3786"
             ],
             [
              0.5555555555555556,
              "#d8576b"
             ],
             [
              0.6666666666666666,
              "#ed7953"
             ],
             [
              0.7777777777777778,
              "#fb9f3a"
             ],
             [
              0.8888888888888888,
              "#fdca26"
             ],
             [
              1,
              "#f0f921"
             ]
            ],
            "type": "histogram2dcontour"
           }
          ],
          "mesh3d": [
           {
            "colorbar": {
             "outlinewidth": 0,
             "ticks": ""
            },
            "type": "mesh3d"
           }
          ],
          "parcoords": [
           {
            "line": {
             "colorbar": {
              "outlinewidth": 0,
              "ticks": ""
             }
            },
            "type": "parcoords"
           }
          ],
          "pie": [
           {
            "automargin": true,
            "type": "pie"
           }
          ],
          "scatter": [
           {
            "fillpattern": {
             "fillmode": "overlay",
             "size": 10,
             "solidity": 0.2
            },
            "type": "scatter"
           }
          ],
          "scatter3d": [
           {
            "line": {
             "colorbar": {
              "outlinewidth": 0,
              "ticks": ""
             }
            },
            "marker": {
             "colorbar": {
              "outlinewidth": 0,
              "ticks": ""
             }
            },
            "type": "scatter3d"
           }
          ],
          "scattercarpet": [
           {
            "marker": {
             "colorbar": {
              "outlinewidth": 0,
              "ticks": ""
             }
            },
            "type": "scattercarpet"
           }
          ],
          "scattergeo": [
           {
            "marker": {
             "colorbar": {
              "outlinewidth": 0,
              "ticks": ""
             }
            },
            "type": "scattergeo"
           }
          ],
          "scattergl": [
           {
            "marker": {
             "colorbar": {
              "outlinewidth": 0,
              "ticks": ""
             }
            },
            "type": "scattergl"
           }
          ],
          "scattermapbox": [
           {
            "marker": {
             "colorbar": {
              "outlinewidth": 0,
              "ticks": ""
             }
            },
            "type": "scattermapbox"
           }
          ],
          "scatterpolar": [
           {
            "marker": {
             "colorbar": {
              "outlinewidth": 0,
              "ticks": ""
             }
            },
            "type": "scatterpolar"
           }
          ],
          "scatterpolargl": [
           {
            "marker": {
             "colorbar": {
              "outlinewidth": 0,
              "ticks": ""
             }
            },
            "type": "scatterpolargl"
           }
          ],
          "scatterternary": [
           {
            "marker": {
             "colorbar": {
              "outlinewidth": 0,
              "ticks": ""
             }
            },
            "type": "scatterternary"
           }
          ],
          "surface": [
           {
            "colorbar": {
             "outlinewidth": 0,
             "ticks": ""
            },
            "colorscale": [
             [
              0,
              "#0d0887"
             ],
             [
              0.1111111111111111,
              "#46039f"
             ],
             [
              0.2222222222222222,
              "#7201a8"
             ],
             [
              0.3333333333333333,
              "#9c179e"
             ],
             [
              0.4444444444444444,
              "#bd3786"
             ],
             [
              0.5555555555555556,
              "#d8576b"
             ],
             [
              0.6666666666666666,
              "#ed7953"
             ],
             [
              0.7777777777777778,
              "#fb9f3a"
             ],
             [
              0.8888888888888888,
              "#fdca26"
             ],
             [
              1,
              "#f0f921"
             ]
            ],
            "type": "surface"
           }
          ],
          "table": [
           {
            "cells": {
             "fill": {
              "color": "#EBF0F8"
             },
             "line": {
              "color": "white"
             }
            },
            "header": {
             "fill": {
              "color": "#C8D4E3"
             },
             "line": {
              "color": "white"
             }
            },
            "type": "table"
           }
          ]
         },
         "layout": {
          "annotationdefaults": {
           "arrowcolor": "#2a3f5f",
           "arrowhead": 0,
           "arrowwidth": 1
          },
          "autotypenumbers": "strict",
          "coloraxis": {
           "colorbar": {
            "outlinewidth": 0,
            "ticks": ""
           }
          },
          "colorscale": {
           "diverging": [
            [
             0,
             "#8e0152"
            ],
            [
             0.1,
             "#c51b7d"
            ],
            [
             0.2,
             "#de77ae"
            ],
            [
             0.3,
             "#f1b6da"
            ],
            [
             0.4,
             "#fde0ef"
            ],
            [
             0.5,
             "#f7f7f7"
            ],
            [
             0.6,
             "#e6f5d0"
            ],
            [
             0.7,
             "#b8e186"
            ],
            [
             0.8,
             "#7fbc41"
            ],
            [
             0.9,
             "#4d9221"
            ],
            [
             1,
             "#276419"
            ]
           ],
           "sequential": [
            [
             0,
             "#0d0887"
            ],
            [
             0.1111111111111111,
             "#46039f"
            ],
            [
             0.2222222222222222,
             "#7201a8"
            ],
            [
             0.3333333333333333,
             "#9c179e"
            ],
            [
             0.4444444444444444,
             "#bd3786"
            ],
            [
             0.5555555555555556,
             "#d8576b"
            ],
            [
             0.6666666666666666,
             "#ed7953"
            ],
            [
             0.7777777777777778,
             "#fb9f3a"
            ],
            [
             0.8888888888888888,
             "#fdca26"
            ],
            [
             1,
             "#f0f921"
            ]
           ],
           "sequentialminus": [
            [
             0,
             "#0d0887"
            ],
            [
             0.1111111111111111,
             "#46039f"
            ],
            [
             0.2222222222222222,
             "#7201a8"
            ],
            [
             0.3333333333333333,
             "#9c179e"
            ],
            [
             0.4444444444444444,
             "#bd3786"
            ],
            [
             0.5555555555555556,
             "#d8576b"
            ],
            [
             0.6666666666666666,
             "#ed7953"
            ],
            [
             0.7777777777777778,
             "#fb9f3a"
            ],
            [
             0.8888888888888888,
             "#fdca26"
            ],
            [
             1,
             "#f0f921"
            ]
           ]
          },
          "colorway": [
           "#636efa",
           "#EF553B",
           "#00cc96",
           "#ab63fa",
           "#FFA15A",
           "#19d3f3",
           "#FF6692",
           "#B6E880",
           "#FF97FF",
           "#FECB52"
          ],
          "font": {
           "color": "#2a3f5f"
          },
          "geo": {
           "bgcolor": "white",
           "lakecolor": "white",
           "landcolor": "#E5ECF6",
           "showlakes": true,
           "showland": true,
           "subunitcolor": "white"
          },
          "hoverlabel": {
           "align": "left"
          },
          "hovermode": "closest",
          "mapbox": {
           "style": "light"
          },
          "paper_bgcolor": "white",
          "plot_bgcolor": "#E5ECF6",
          "polar": {
           "angularaxis": {
            "gridcolor": "white",
            "linecolor": "white",
            "ticks": ""
           },
           "bgcolor": "#E5ECF6",
           "radialaxis": {
            "gridcolor": "white",
            "linecolor": "white",
            "ticks": ""
           }
          },
          "scene": {
           "xaxis": {
            "backgroundcolor": "#E5ECF6",
            "gridcolor": "white",
            "gridwidth": 2,
            "linecolor": "white",
            "showbackground": true,
            "ticks": "",
            "zerolinecolor": "white"
           },
           "yaxis": {
            "backgroundcolor": "#E5ECF6",
            "gridcolor": "white",
            "gridwidth": 2,
            "linecolor": "white",
            "showbackground": true,
            "ticks": "",
            "zerolinecolor": "white"
           },
           "zaxis": {
            "backgroundcolor": "#E5ECF6",
            "gridcolor": "white",
            "gridwidth": 2,
            "linecolor": "white",
            "showbackground": true,
            "ticks": "",
            "zerolinecolor": "white"
           }
          },
          "shapedefaults": {
           "line": {
            "color": "#2a3f5f"
           }
          },
          "ternary": {
           "aaxis": {
            "gridcolor": "white",
            "linecolor": "white",
            "ticks": ""
           },
           "baxis": {
            "gridcolor": "white",
            "linecolor": "white",
            "ticks": ""
           },
           "bgcolor": "#E5ECF6",
           "caxis": {
            "gridcolor": "white",
            "linecolor": "white",
            "ticks": ""
           }
          },
          "title": {
           "x": 0.05
          },
          "xaxis": {
           "automargin": true,
           "gridcolor": "white",
           "linecolor": "white",
           "ticks": "",
           "title": {
            "standoff": 15
           },
           "zerolinecolor": "white",
           "zerolinewidth": 2
          },
          "yaxis": {
           "automargin": true,
           "gridcolor": "white",
           "linecolor": "white",
           "ticks": "",
           "title": {
            "standoff": 15
           },
           "zerolinecolor": "white",
           "zerolinewidth": 2
          }
         }
        },
        "title": {
         "text": "Reservas Probadas de Aceite y Gas del Top 5 de países con mayor Fuerza Militar"
        }
       }
      }
     },
     "metadata": {},
     "output_type": "display_data"
    }
   ],
   "source": [
    "fig_scatter3d_predict=px.scatter_3d(X_test,x=\"Oil - Proved reserves\",y=\"Gas - Proved reserves\",\n",
    "    z=\"Armed forces personnel, total\",opacity=0.4,hover_name=\"Year\",height=700,\n",
    "    title=\"Reservas Probadas de Aceite y Gas del Top \"+str(len(df_afp_topN[\"Code\"].unique()))+\" de países con mayor Fuerza Militar\")\n",
    "    #NOTA: Podemos agregar un atributo llamado text=\"Year\" en la gráfica para que se muestren los años \n",
    "    # y se vea guapeton, la contra es que es mucha info para mostrar en una sola imágen\n",
    "fig_scatter3d_predict.show()"
   ]
  },
  {
   "cell_type": "markdown",
   "metadata": {},
   "source": [
    "A partir de aquí me di cuenta que la estaba regando y necesito PREDECIR para un solo país, por lo que procedo a extraer los datos de un solo país y evaluarlo en el tiempo"
   ]
  },
  {
   "cell_type": "code",
   "execution_count": 209,
   "metadata": {},
   "outputs": [
    {
     "data": {
      "text/html": [
       "<div>\n",
       "<style scoped>\n",
       "    .dataframe tbody tr th:only-of-type {\n",
       "        vertical-align: middle;\n",
       "    }\n",
       "\n",
       "    .dataframe tbody tr th {\n",
       "        vertical-align: top;\n",
       "    }\n",
       "\n",
       "    .dataframe thead th {\n",
       "        text-align: right;\n",
       "    }\n",
       "</style>\n",
       "<table border=\"1\" class=\"dataframe\">\n",
       "  <thead>\n",
       "    <tr style=\"text-align: right;\">\n",
       "      <th></th>\n",
       "      <th>Entity</th>\n",
       "      <th>Code</th>\n",
       "      <th>Year</th>\n",
       "      <th>Armed forces personnel, total</th>\n",
       "      <th>military_expenditure</th>\n",
       "      <th>military_expenditure_per_capita</th>\n",
       "      <th>Gas - Proved reserves</th>\n",
       "      <th>Oil - Proved reserves</th>\n",
       "    </tr>\n",
       "  </thead>\n",
       "  <tbody>\n",
       "    <tr>\n",
       "      <th>150</th>\n",
       "      <td>Argentina</td>\n",
       "      <td>ARG</td>\n",
       "      <td>1989.0</td>\n",
       "      <td>95000.0</td>\n",
       "      <td>5.308451e+09</td>\n",
       "      <td>44.82</td>\n",
       "      <td>6.542250e+11</td>\n",
       "      <td>2.167700e+09</td>\n",
       "    </tr>\n",
       "    <tr>\n",
       "      <th>151</th>\n",
       "      <td>Argentina</td>\n",
       "      <td>ARG</td>\n",
       "      <td>1990.0</td>\n",
       "      <td>85000.0</td>\n",
       "      <td>3.605015e+09</td>\n",
       "      <td>62.88</td>\n",
       "      <td>6.435000e+11</td>\n",
       "      <td>1.569987e+09</td>\n",
       "    </tr>\n",
       "    <tr>\n",
       "      <th>152</th>\n",
       "      <td>Argentina</td>\n",
       "      <td>ARG</td>\n",
       "      <td>1991.0</td>\n",
       "      <td>70000.0</td>\n",
       "      <td>3.617332e+09</td>\n",
       "      <td>86.42</td>\n",
       "      <td>6.269250e+11</td>\n",
       "      <td>1.683267e+09</td>\n",
       "    </tr>\n",
       "    <tr>\n",
       "      <th>153</th>\n",
       "      <td>Argentina</td>\n",
       "      <td>ARG</td>\n",
       "      <td>1992.0</td>\n",
       "      <td>65000.0</td>\n",
       "      <td>3.425276e+09</td>\n",
       "      <td>97.06</td>\n",
       "      <td>5.274750e+11</td>\n",
       "      <td>2.017438e+09</td>\n",
       "    </tr>\n",
       "    <tr>\n",
       "      <th>154</th>\n",
       "      <td>Argentina</td>\n",
       "      <td>ARG</td>\n",
       "      <td>1993.0</td>\n",
       "      <td>65000.0</td>\n",
       "      <td>3.232102e+09</td>\n",
       "      <td>99.16</td>\n",
       "      <td>5.040750e+11</td>\n",
       "      <td>2.216787e+09</td>\n",
       "    </tr>\n",
       "  </tbody>\n",
       "</table>\n",
       "</div>"
      ],
      "text/plain": [
       "        Entity Code    Year  Armed forces personnel, total  \\\n",
       "150  Argentina  ARG  1989.0                        95000.0   \n",
       "151  Argentina  ARG  1990.0                        85000.0   \n",
       "152  Argentina  ARG  1991.0                        70000.0   \n",
       "153  Argentina  ARG  1992.0                        65000.0   \n",
       "154  Argentina  ARG  1993.0                        65000.0   \n",
       "\n",
       "     military_expenditure  military_expenditure_per_capita  \\\n",
       "150          5.308451e+09                            44.82   \n",
       "151          3.605015e+09                            62.88   \n",
       "152          3.617332e+09                            86.42   \n",
       "153          3.425276e+09                            97.06   \n",
       "154          3.232102e+09                            99.16   \n",
       "\n",
       "     Gas - Proved reserves  Oil - Proved reserves  \n",
       "150           6.542250e+11           2.167700e+09  \n",
       "151           6.435000e+11           1.569987e+09  \n",
       "152           6.269250e+11           1.683267e+09  \n",
       "153           5.274750e+11           2.017438e+09  \n",
       "154           5.040750e+11           2.216787e+09  "
      ]
     },
     "execution_count": 209,
     "metadata": {},
     "output_type": "execute_result"
    }
   ],
   "source": [
    "list_countries=[\"United States\",\"China\",\"Mexico\",\"Argentina\",\"Russia\"]\n",
    "predict_varios=df_all.where(df_all.Entity.isin(list_countries)).dropna()\n",
    "predict_varios.head()"
   ]
  },
  {
   "cell_type": "code",
   "execution_count": 210,
   "metadata": {},
   "outputs": [],
   "source": [
    "#Seperamos en X e y\n",
    "X = predict_varios.drop([\"Code\",\"Entity\"], axis=1) #Elimino de mi dataset la variable a predecir\n",
    "y = predict_varios[[\"Entity\"]] #Defino el Target"
   ]
  },
  {
   "cell_type": "code",
   "execution_count": 212,
   "metadata": {},
   "outputs": [
    {
     "data": {
      "text/html": [
       "<div>\n",
       "<style scoped>\n",
       "    .dataframe tbody tr th:only-of-type {\n",
       "        vertical-align: middle;\n",
       "    }\n",
       "\n",
       "    .dataframe tbody tr th {\n",
       "        vertical-align: top;\n",
       "    }\n",
       "\n",
       "    .dataframe thead th {\n",
       "        text-align: right;\n",
       "    }\n",
       "</style>\n",
       "<table border=\"1\" class=\"dataframe\">\n",
       "  <thead>\n",
       "    <tr style=\"text-align: right;\">\n",
       "      <th></th>\n",
       "      <th>Year</th>\n",
       "      <th>Armed forces personnel, total</th>\n",
       "      <th>military_expenditure</th>\n",
       "      <th>military_expenditure_per_capita</th>\n",
       "      <th>Gas - Proved reserves</th>\n",
       "      <th>Oil - Proved reserves</th>\n",
       "    </tr>\n",
       "  </thead>\n",
       "  <tbody>\n",
       "    <tr>\n",
       "      <th>150</th>\n",
       "      <td>1989.0</td>\n",
       "      <td>95000.0</td>\n",
       "      <td>5.308451e+09</td>\n",
       "      <td>44.82</td>\n",
       "      <td>6.542250e+11</td>\n",
       "      <td>2.167700e+09</td>\n",
       "    </tr>\n",
       "    <tr>\n",
       "      <th>151</th>\n",
       "      <td>1990.0</td>\n",
       "      <td>85000.0</td>\n",
       "      <td>3.605015e+09</td>\n",
       "      <td>62.88</td>\n",
       "      <td>6.435000e+11</td>\n",
       "      <td>1.569987e+09</td>\n",
       "    </tr>\n",
       "    <tr>\n",
       "      <th>152</th>\n",
       "      <td>1991.0</td>\n",
       "      <td>70000.0</td>\n",
       "      <td>3.617332e+09</td>\n",
       "      <td>86.42</td>\n",
       "      <td>6.269250e+11</td>\n",
       "      <td>1.683267e+09</td>\n",
       "    </tr>\n",
       "    <tr>\n",
       "      <th>153</th>\n",
       "      <td>1992.0</td>\n",
       "      <td>65000.0</td>\n",
       "      <td>3.425276e+09</td>\n",
       "      <td>97.06</td>\n",
       "      <td>5.274750e+11</td>\n",
       "      <td>2.017438e+09</td>\n",
       "    </tr>\n",
       "    <tr>\n",
       "      <th>154</th>\n",
       "      <td>1993.0</td>\n",
       "      <td>65000.0</td>\n",
       "      <td>3.232102e+09</td>\n",
       "      <td>99.16</td>\n",
       "      <td>5.040750e+11</td>\n",
       "      <td>2.216787e+09</td>\n",
       "    </tr>\n",
       "  </tbody>\n",
       "</table>\n",
       "</div>"
      ],
      "text/plain": [
       "       Year  Armed forces personnel, total  military_expenditure  \\\n",
       "150  1989.0                        95000.0          5.308451e+09   \n",
       "151  1990.0                        85000.0          3.605015e+09   \n",
       "152  1991.0                        70000.0          3.617332e+09   \n",
       "153  1992.0                        65000.0          3.425276e+09   \n",
       "154  1993.0                        65000.0          3.232102e+09   \n",
       "\n",
       "     military_expenditure_per_capita  Gas - Proved reserves  \\\n",
       "150                            44.82           6.542250e+11   \n",
       "151                            62.88           6.435000e+11   \n",
       "152                            86.42           6.269250e+11   \n",
       "153                            97.06           5.274750e+11   \n",
       "154                            99.16           5.040750e+11   \n",
       "\n",
       "     Oil - Proved reserves  \n",
       "150           2.167700e+09  \n",
       "151           1.569987e+09  \n",
       "152           1.683267e+09  \n",
       "153           2.017438e+09  \n",
       "154           2.216787e+09  "
      ]
     },
     "execution_count": 212,
     "metadata": {},
     "output_type": "execute_result"
    }
   ],
   "source": [
    "X.head()"
   ]
  },
  {
   "cell_type": "code",
   "execution_count": 213,
   "metadata": {},
   "outputs": [
    {
     "data": {
      "text/html": [
       "<div>\n",
       "<style scoped>\n",
       "    .dataframe tbody tr th:only-of-type {\n",
       "        vertical-align: middle;\n",
       "    }\n",
       "\n",
       "    .dataframe tbody tr th {\n",
       "        vertical-align: top;\n",
       "    }\n",
       "\n",
       "    .dataframe thead th {\n",
       "        text-align: right;\n",
       "    }\n",
       "</style>\n",
       "<table border=\"1\" class=\"dataframe\">\n",
       "  <thead>\n",
       "    <tr style=\"text-align: right;\">\n",
       "      <th></th>\n",
       "      <th>Entity</th>\n",
       "    </tr>\n",
       "  </thead>\n",
       "  <tbody>\n",
       "    <tr>\n",
       "      <th>150</th>\n",
       "      <td>Argentina</td>\n",
       "    </tr>\n",
       "    <tr>\n",
       "      <th>151</th>\n",
       "      <td>Argentina</td>\n",
       "    </tr>\n",
       "    <tr>\n",
       "      <th>152</th>\n",
       "      <td>Argentina</td>\n",
       "    </tr>\n",
       "    <tr>\n",
       "      <th>153</th>\n",
       "      <td>Argentina</td>\n",
       "    </tr>\n",
       "    <tr>\n",
       "      <th>154</th>\n",
       "      <td>Argentina</td>\n",
       "    </tr>\n",
       "  </tbody>\n",
       "</table>\n",
       "</div>"
      ],
      "text/plain": [
       "        Entity\n",
       "150  Argentina\n",
       "151  Argentina\n",
       "152  Argentina\n",
       "153  Argentina\n",
       "154  Argentina"
      ]
     },
     "execution_count": 213,
     "metadata": {},
     "output_type": "execute_result"
    }
   ],
   "source": [
    "y.head()"
   ]
  },
  {
   "cell_type": "code",
   "execution_count": 218,
   "metadata": {},
   "outputs": [
    {
     "data": {
      "text/plain": [
       "array(['Russia', 'China', 'China', 'Argentina', 'Argentina', 'China',\n",
       "       'China', 'China', 'Russia', 'China', 'China', 'Russia', 'China',\n",
       "       'Mexico', 'Mexico', 'Argentina', 'China', 'Mexico', 'Argentina',\n",
       "       'Argentina', 'Mexico', 'Russia', 'Russia', 'Mexico', 'Russia',\n",
       "       'China', 'Mexico', 'Argentina', 'Argentina', 'Russia', 'Russia',\n",
       "       'Russia', 'China', 'China', 'China', 'China', 'China', 'Argentina',\n",
       "       'China', 'China', 'China', 'Argentina', 'China', 'Russia', 'China',\n",
       "       'Argentina', 'Mexico', 'China', 'Russia', 'Argentina', 'Argentina',\n",
       "       'Mexico', 'Argentina', 'Mexico', 'Russia', 'Argentina', 'Russia',\n",
       "       'Argentina', 'Argentina', 'Mexico', 'Argentina', 'Argentina',\n",
       "       'China', 'China', 'Mexico', 'Mexico', 'Mexico', 'Argentina',\n",
       "       'China', 'Mexico', 'China', 'China', 'Argentina', 'Russia',\n",
       "       'Mexico', 'Russia', 'Russia', 'China', 'Mexico', 'Russia',\n",
       "       'Russia', 'Argentina', 'China', 'China', 'China', 'China', 'China',\n",
       "       'China', 'China', 'Mexico', 'Argentina', 'China', 'China',\n",
       "       'Mexico', 'China', 'Mexico', 'China', 'Russia', 'China', 'Mexico',\n",
       "       'China', 'China', 'Russia', 'Russia', 'China', 'China', 'Russia',\n",
       "       'Mexico', 'Argentina', 'Russia', 'Mexico', 'China', 'Russia'],\n",
       "      dtype=object)"
      ]
     },
     "execution_count": 218,
     "metadata": {},
     "output_type": "execute_result"
    }
   ],
   "source": [
    "X_train, X_test, y_train, y_test = train_test_split(X, y, test_size=0.25, random_state=123)\n",
    "tree = DecisionTreeClassifier(max_depth=3, random_state = 123) #Creamos el modelo\n",
    "tree.fit(X_train,y_train)\n",
    "y_train_pred = tree.predict(X_train) #Prediccion en Train\n",
    "y_train_pred"
   ]
  },
  {
   "cell_type": "code",
   "execution_count": 219,
   "metadata": {},
   "outputs": [
    {
     "data": {
      "text/plain": [
       "array(['China', 'Mexico', 'China', 'Argentina', 'Mexico', 'China',\n",
       "       'China', 'China', 'China', 'China', 'Mexico', 'Argentina', 'China',\n",
       "       'Mexico', 'China', 'Mexico', 'China', 'China', 'Argentina',\n",
       "       'Mexico', 'Argentina', 'Russia', 'China', 'China', 'Mexico',\n",
       "       'China', 'Argentina', 'China', 'Russia', 'Russia', 'China',\n",
       "       'Argentina', 'China', 'Mexico', 'Argentina', 'China', 'Argentina',\n",
       "       'Mexico'], dtype=object)"
      ]
     },
     "execution_count": 219,
     "metadata": {},
     "output_type": "execute_result"
    }
   ],
   "source": [
    "y_test_pred = tree.predict(X_test) #Prediccion en Test\n",
    "y_test_pred"
   ]
  },
  {
   "cell_type": "code",
   "execution_count": 220,
   "metadata": {},
   "outputs": [
    {
     "name": "stdout",
     "output_type": "stream",
     "text": [
      "Porcentaje de número de datos para testear: 25.17%\n"
     ]
    }
   ],
   "source": [
    "print(\"Porcentaje de número de datos para testear: \"+str(round(len(X_test)/len(X)*100,2))+\"%\")"
   ]
  },
  {
   "cell_type": "code",
   "execution_count": 221,
   "metadata": {},
   "outputs": [
    {
     "name": "stdout",
     "output_type": "stream",
     "text": [
      "% de aciertos sobre el set de entrenamiento: 0.8053097345132744\n",
      "% de aciertos sobre el set de evaluación: 0.7631578947368421\n"
     ]
    }
   ],
   "source": [
    "#Calculo el accuracy en Train\n",
    "train_accuracy = accuracy_score(y_train, y_train_pred)\n",
    "\n",
    "#Calculo el accuracy en Test\n",
    "test_accuracy = accuracy_score(y_test, y_test_pred)\n",
    "\n",
    "print('% de aciertos sobre el set de entrenamiento:', train_accuracy)\n",
    "print('% de aciertos sobre el set de evaluación:',test_accuracy)"
   ]
  },
  {
   "cell_type": "code",
   "execution_count": 222,
   "metadata": {},
   "outputs": [
    {
     "name": "stdout",
     "output_type": "stream",
     "text": [
      "Matriz de Confusión:\n",
      "[[8 0 0 0 0]\n",
      " [0 9 0 0 0]\n",
      " [0 0 9 0 0]\n",
      " [0 0 0 3 0]\n",
      " [0 9 0 0 0]]\n"
     ]
    }
   ],
   "source": [
    "from sklearn.metrics import confusion_matrix\n",
    "matriz = confusion_matrix(y_test, y_test_pred)\n",
    "print('Matriz de Confusión:')\n",
    "print(matriz)"
   ]
  },
  {
   "cell_type": "markdown",
   "metadata": {},
   "source": [
    "Se observó que si se aumenta la profundidad del arbol, el algoritmo comienza a hacer overfitting, por lo que se deja en profundidad máxima de 3"
   ]
  },
  {
   "cell_type": "code",
   "execution_count": null,
   "metadata": {},
   "outputs": [],
   "source": []
  },
  {
   "cell_type": "markdown",
   "metadata": {},
   "source": [
    "NOTA: Hacer clasificación por país (por rama) y hacer test de predicción"
   ]
  }
 ],
 "metadata": {
  "kernelspec": {
   "display_name": "Python 3.8.10 ('vEnvCoder': venv)",
   "language": "python",
   "name": "python3"
  },
  "language_info": {
   "codemirror_mode": {
    "name": "ipython",
    "version": 3
   },
   "file_extension": ".py",
   "mimetype": "text/x-python",
   "name": "python",
   "nbconvert_exporter": "python",
   "pygments_lexer": "ipython3",
   "version": "3.8.10"
  },
  "orig_nbformat": 4,
  "vscode": {
   "interpreter": {
    "hash": "b8cd8f93546d952ad6dfeb8b54ddd09b26030e490d93a970d0c92f1294b08aa8"
   }
  }
 },
 "nbformat": 4,
 "nbformat_minor": 2
}
